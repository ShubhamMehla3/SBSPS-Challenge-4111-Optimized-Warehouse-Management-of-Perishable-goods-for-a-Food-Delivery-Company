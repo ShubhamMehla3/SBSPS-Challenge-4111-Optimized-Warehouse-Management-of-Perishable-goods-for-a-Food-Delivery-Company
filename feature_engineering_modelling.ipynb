{
 "cells": [
  {
   "cell_type": "code",
   "execution_count": 1,
   "metadata": {
    "colab": {},
    "colab_type": "code",
    "id": "E1BgK4Nu7kF7"
   },
   "outputs": [],
   "source": [
    "import pandas as pd\n",
    "import numpy as np\n",
    "import seaborn as sns\n",
    "from matplotlib import pyplot as plt\n",
    "import pandas_profiling as pp\n",
    "from sklearn.preprocessing import LabelEncoder\n",
    "from sklearn.model_selection import train_test_split\n",
    "from sklearn.model_selection import KFold,StratifiedKFold\n",
    "from sklearn.metrics import mean_squared_error\n",
    "from catboost import CatBoostRegressor\n",
    "from catboost import Pool\n",
    "%matplotlib inline"
   ]
  },
  {
   "cell_type": "code",
   "execution_count": 2,
   "metadata": {
    "colab": {},
    "colab_type": "code",
    "id": "8S6Q_FwB7kGg"
   },
   "outputs": [],
   "source": [
    "train = pd.read_csv('train.csv')\n",
    "test = pd.read_csv('test.csv')\n",
    "fulfilment_center = pd.read_csv('fulfilment_center_info.csv')\n",
    "meal_info = pd.read_csv('meal_info.csv')"
   ]
  },
  {
   "cell_type": "code",
   "execution_count": 3,
   "metadata": {
    "colab": {},
    "colab_type": "code",
    "id": "GAJESuRz7kGp",
    "outputId": "ed61d275-72b1-46da-dde2-13e80a764902",
    "scrolled": true
   },
   "outputs": [
    {
     "name": "stdout",
     "output_type": "stream",
     "text": [
      "<class 'pandas.core.frame.DataFrame'>\n",
      "RangeIndex: 456548 entries, 0 to 456547\n",
      "Data columns (total 9 columns):\n",
      " #   Column                 Non-Null Count   Dtype  \n",
      "---  ------                 --------------   -----  \n",
      " 0   id                     456548 non-null  int64  \n",
      " 1   week                   456548 non-null  int64  \n",
      " 2   center_id              456548 non-null  int64  \n",
      " 3   meal_id                456548 non-null  int64  \n",
      " 4   checkout_price         456548 non-null  float64\n",
      " 5   base_price             456548 non-null  float64\n",
      " 6   emailer_for_promotion  456548 non-null  int64  \n",
      " 7   homepage_featured      456548 non-null  int64  \n",
      " 8   num_orders             456548 non-null  int64  \n",
      "dtypes: float64(2), int64(7)\n",
      "memory usage: 31.3 MB\n"
     ]
    }
   ],
   "source": [
    "train.info()"
   ]
  },
  {
   "cell_type": "code",
   "execution_count": 4,
   "metadata": {
    "colab": {},
    "colab_type": "code",
    "id": "AGSSD3rj7kG8",
    "outputId": "617086b5-3a75-453b-b971-16407bf708c1"
   },
   "outputs": [
    {
     "name": "stdout",
     "output_type": "stream",
     "text": [
      "<class 'pandas.core.frame.DataFrame'>\n",
      "RangeIndex: 32573 entries, 0 to 32572\n",
      "Data columns (total 8 columns):\n",
      " #   Column                 Non-Null Count  Dtype  \n",
      "---  ------                 --------------  -----  \n",
      " 0   id                     32573 non-null  int64  \n",
      " 1   week                   32573 non-null  int64  \n",
      " 2   center_id              32573 non-null  int64  \n",
      " 3   meal_id                32573 non-null  int64  \n",
      " 4   checkout_price         32573 non-null  float64\n",
      " 5   base_price             32573 non-null  float64\n",
      " 6   emailer_for_promotion  32573 non-null  int64  \n",
      " 7   homepage_featured      32573 non-null  int64  \n",
      "dtypes: float64(2), int64(6)\n",
      "memory usage: 2.0 MB\n"
     ]
    }
   ],
   "source": [
    "test.info()"
   ]
  },
  {
   "cell_type": "code",
   "execution_count": 5,
   "metadata": {
    "colab": {},
    "colab_type": "code",
    "id": "z93vZnlc7kHJ",
    "outputId": "24b8a130-d1d8-4bae-904f-761696f77b69"
   },
   "outputs": [
    {
     "data": {
      "text/html": [
       "<div>\n",
       "<style scoped>\n",
       "    .dataframe tbody tr th:only-of-type {\n",
       "        vertical-align: middle;\n",
       "    }\n",
       "\n",
       "    .dataframe tbody tr th {\n",
       "        vertical-align: top;\n",
       "    }\n",
       "\n",
       "    .dataframe thead th {\n",
       "        text-align: right;\n",
       "    }\n",
       "</style>\n",
       "<table border=\"1\" class=\"dataframe\">\n",
       "  <thead>\n",
       "    <tr style=\"text-align: right;\">\n",
       "      <th></th>\n",
       "      <th>id</th>\n",
       "      <th>week</th>\n",
       "      <th>center_id</th>\n",
       "      <th>meal_id</th>\n",
       "      <th>checkout_price</th>\n",
       "      <th>base_price</th>\n",
       "      <th>emailer_for_promotion</th>\n",
       "      <th>homepage_featured</th>\n",
       "    </tr>\n",
       "  </thead>\n",
       "  <tbody>\n",
       "    <tr>\n",
       "      <th>0</th>\n",
       "      <td>1028232</td>\n",
       "      <td>146</td>\n",
       "      <td>55</td>\n",
       "      <td>1885</td>\n",
       "      <td>158.11</td>\n",
       "      <td>159.11</td>\n",
       "      <td>0</td>\n",
       "      <td>0</td>\n",
       "    </tr>\n",
       "    <tr>\n",
       "      <th>1</th>\n",
       "      <td>1127204</td>\n",
       "      <td>146</td>\n",
       "      <td>55</td>\n",
       "      <td>1993</td>\n",
       "      <td>160.11</td>\n",
       "      <td>159.11</td>\n",
       "      <td>0</td>\n",
       "      <td>0</td>\n",
       "    </tr>\n",
       "    <tr>\n",
       "      <th>2</th>\n",
       "      <td>1212707</td>\n",
       "      <td>146</td>\n",
       "      <td>55</td>\n",
       "      <td>2539</td>\n",
       "      <td>157.14</td>\n",
       "      <td>159.14</td>\n",
       "      <td>0</td>\n",
       "      <td>0</td>\n",
       "    </tr>\n",
       "    <tr>\n",
       "      <th>3</th>\n",
       "      <td>1082698</td>\n",
       "      <td>146</td>\n",
       "      <td>55</td>\n",
       "      <td>2631</td>\n",
       "      <td>162.02</td>\n",
       "      <td>162.02</td>\n",
       "      <td>0</td>\n",
       "      <td>0</td>\n",
       "    </tr>\n",
       "    <tr>\n",
       "      <th>4</th>\n",
       "      <td>1400926</td>\n",
       "      <td>146</td>\n",
       "      <td>55</td>\n",
       "      <td>1248</td>\n",
       "      <td>163.93</td>\n",
       "      <td>163.93</td>\n",
       "      <td>0</td>\n",
       "      <td>0</td>\n",
       "    </tr>\n",
       "  </tbody>\n",
       "</table>\n",
       "</div>"
      ],
      "text/plain": [
       "        id  week  center_id  meal_id  checkout_price  base_price  \\\n",
       "0  1028232   146         55     1885          158.11      159.11   \n",
       "1  1127204   146         55     1993          160.11      159.11   \n",
       "2  1212707   146         55     2539          157.14      159.14   \n",
       "3  1082698   146         55     2631          162.02      162.02   \n",
       "4  1400926   146         55     1248          163.93      163.93   \n",
       "\n",
       "   emailer_for_promotion  homepage_featured  \n",
       "0                      0                  0  \n",
       "1                      0                  0  \n",
       "2                      0                  0  \n",
       "3                      0                  0  \n",
       "4                      0                  0  "
      ]
     },
     "execution_count": 5,
     "metadata": {},
     "output_type": "execute_result"
    }
   ],
   "source": [
    "test.head()"
   ]
  },
  {
   "cell_type": "code",
   "execution_count": 6,
   "metadata": {
    "colab": {},
    "colab_type": "code",
    "id": "Tn8loJc47kHV",
    "outputId": "ce565625-4173-49b2-ed69-1889e7d88c99"
   },
   "outputs": [
    {
     "data": {
      "text/html": [
       "<div>\n",
       "<style scoped>\n",
       "    .dataframe tbody tr th:only-of-type {\n",
       "        vertical-align: middle;\n",
       "    }\n",
       "\n",
       "    .dataframe tbody tr th {\n",
       "        vertical-align: top;\n",
       "    }\n",
       "\n",
       "    .dataframe thead th {\n",
       "        text-align: right;\n",
       "    }\n",
       "</style>\n",
       "<table border=\"1\" class=\"dataframe\">\n",
       "  <thead>\n",
       "    <tr style=\"text-align: right;\">\n",
       "      <th></th>\n",
       "      <th>center_id</th>\n",
       "      <th>city_code</th>\n",
       "      <th>region_code</th>\n",
       "      <th>center_type</th>\n",
       "      <th>op_area</th>\n",
       "    </tr>\n",
       "  </thead>\n",
       "  <tbody>\n",
       "    <tr>\n",
       "      <th>0</th>\n",
       "      <td>11</td>\n",
       "      <td>679</td>\n",
       "      <td>56</td>\n",
       "      <td>TYPE_A</td>\n",
       "      <td>3.7</td>\n",
       "    </tr>\n",
       "    <tr>\n",
       "      <th>1</th>\n",
       "      <td>13</td>\n",
       "      <td>590</td>\n",
       "      <td>56</td>\n",
       "      <td>TYPE_B</td>\n",
       "      <td>6.7</td>\n",
       "    </tr>\n",
       "    <tr>\n",
       "      <th>2</th>\n",
       "      <td>124</td>\n",
       "      <td>590</td>\n",
       "      <td>56</td>\n",
       "      <td>TYPE_C</td>\n",
       "      <td>4.0</td>\n",
       "    </tr>\n",
       "    <tr>\n",
       "      <th>3</th>\n",
       "      <td>66</td>\n",
       "      <td>648</td>\n",
       "      <td>34</td>\n",
       "      <td>TYPE_A</td>\n",
       "      <td>4.1</td>\n",
       "    </tr>\n",
       "    <tr>\n",
       "      <th>4</th>\n",
       "      <td>94</td>\n",
       "      <td>632</td>\n",
       "      <td>34</td>\n",
       "      <td>TYPE_C</td>\n",
       "      <td>3.6</td>\n",
       "    </tr>\n",
       "  </tbody>\n",
       "</table>\n",
       "</div>"
      ],
      "text/plain": [
       "   center_id  city_code  region_code center_type  op_area\n",
       "0         11        679           56      TYPE_A      3.7\n",
       "1         13        590           56      TYPE_B      6.7\n",
       "2        124        590           56      TYPE_C      4.0\n",
       "3         66        648           34      TYPE_A      4.1\n",
       "4         94        632           34      TYPE_C      3.6"
      ]
     },
     "execution_count": 6,
     "metadata": {},
     "output_type": "execute_result"
    }
   ],
   "source": [
    "fulfilment_center.head()"
   ]
  },
  {
   "cell_type": "code",
   "execution_count": 7,
   "metadata": {
    "colab": {},
    "colab_type": "code",
    "id": "h8urChaW7kHj",
    "outputId": "8d3f3771-c9fb-43e4-ce31-d233db83ccb4"
   },
   "outputs": [
    {
     "data": {
      "text/html": [
       "<div>\n",
       "<style scoped>\n",
       "    .dataframe tbody tr th:only-of-type {\n",
       "        vertical-align: middle;\n",
       "    }\n",
       "\n",
       "    .dataframe tbody tr th {\n",
       "        vertical-align: top;\n",
       "    }\n",
       "\n",
       "    .dataframe thead th {\n",
       "        text-align: right;\n",
       "    }\n",
       "</style>\n",
       "<table border=\"1\" class=\"dataframe\">\n",
       "  <thead>\n",
       "    <tr style=\"text-align: right;\">\n",
       "      <th></th>\n",
       "      <th>meal_id</th>\n",
       "      <th>category</th>\n",
       "      <th>cuisine</th>\n",
       "    </tr>\n",
       "  </thead>\n",
       "  <tbody>\n",
       "    <tr>\n",
       "      <th>0</th>\n",
       "      <td>1885</td>\n",
       "      <td>Beverages</td>\n",
       "      <td>Thai</td>\n",
       "    </tr>\n",
       "    <tr>\n",
       "      <th>1</th>\n",
       "      <td>1993</td>\n",
       "      <td>Beverages</td>\n",
       "      <td>Thai</td>\n",
       "    </tr>\n",
       "    <tr>\n",
       "      <th>2</th>\n",
       "      <td>2539</td>\n",
       "      <td>Beverages</td>\n",
       "      <td>Thai</td>\n",
       "    </tr>\n",
       "    <tr>\n",
       "      <th>3</th>\n",
       "      <td>1248</td>\n",
       "      <td>Beverages</td>\n",
       "      <td>Indian</td>\n",
       "    </tr>\n",
       "    <tr>\n",
       "      <th>4</th>\n",
       "      <td>2631</td>\n",
       "      <td>Beverages</td>\n",
       "      <td>Indian</td>\n",
       "    </tr>\n",
       "  </tbody>\n",
       "</table>\n",
       "</div>"
      ],
      "text/plain": [
       "   meal_id   category cuisine\n",
       "0     1885  Beverages    Thai\n",
       "1     1993  Beverages    Thai\n",
       "2     2539  Beverages    Thai\n",
       "3     1248  Beverages  Indian\n",
       "4     2631  Beverages  Indian"
      ]
     },
     "execution_count": 7,
     "metadata": {},
     "output_type": "execute_result"
    }
   ],
   "source": [
    "meal_info.head()"
   ]
  },
  {
   "cell_type": "code",
   "execution_count": 8,
   "metadata": {
    "colab": {},
    "colab_type": "code",
    "id": "S107YGrR7kHw",
    "outputId": "f19c5d9b-7492-4d7f-c440-5f7a21d514e9"
   },
   "outputs": [
    {
     "name": "stdout",
     "output_type": "stream",
     "text": [
      "<class 'pandas.core.frame.DataFrame'>\n",
      "RangeIndex: 51 entries, 0 to 50\n",
      "Data columns (total 3 columns):\n",
      " #   Column    Non-Null Count  Dtype \n",
      "---  ------    --------------  ----- \n",
      " 0   meal_id   51 non-null     int64 \n",
      " 1   category  51 non-null     object\n",
      " 2   cuisine   51 non-null     object\n",
      "dtypes: int64(1), object(2)\n",
      "memory usage: 1.3+ KB\n"
     ]
    }
   ],
   "source": [
    "meal_info.info()"
   ]
  },
  {
   "cell_type": "code",
   "execution_count": 9,
   "metadata": {
    "colab": {},
    "colab_type": "code",
    "id": "v5vbDm0j7kIA",
    "outputId": "3d0748c9-8add-44fa-b213-bd329682d4e6"
   },
   "outputs": [],
   "source": [
    "train = pd.merge(train,fulfilment_center, on='center_id')\n",
    "test = pd.merge(test,fulfilment_center, on='center_id')\n",
    "\n",
    "train = pd.merge(train,meal_info, on='meal_id')\n",
    "test = pd.merge(test,meal_info, on='meal_id')"
   ]
  },
  {
   "cell_type": "code",
   "execution_count": 10,
   "metadata": {
    "colab": {},
    "colab_type": "code",
    "id": "eYHJheYS7kIL",
    "outputId": "a2caa58f-fe55-44f7-e8b2-2dd0fed9786d"
   },
   "outputs": [
    {
     "data": {
      "text/html": [
       "<div>\n",
       "<style scoped>\n",
       "    .dataframe tbody tr th:only-of-type {\n",
       "        vertical-align: middle;\n",
       "    }\n",
       "\n",
       "    .dataframe tbody tr th {\n",
       "        vertical-align: top;\n",
       "    }\n",
       "\n",
       "    .dataframe thead th {\n",
       "        text-align: right;\n",
       "    }\n",
       "</style>\n",
       "<table border=\"1\" class=\"dataframe\">\n",
       "  <thead>\n",
       "    <tr style=\"text-align: right;\">\n",
       "      <th></th>\n",
       "      <th>id</th>\n",
       "      <th>week</th>\n",
       "      <th>center_id</th>\n",
       "      <th>meal_id</th>\n",
       "      <th>checkout_price</th>\n",
       "      <th>base_price</th>\n",
       "      <th>emailer_for_promotion</th>\n",
       "      <th>homepage_featured</th>\n",
       "      <th>num_orders</th>\n",
       "      <th>city_code</th>\n",
       "      <th>region_code</th>\n",
       "      <th>center_type</th>\n",
       "      <th>op_area</th>\n",
       "      <th>category</th>\n",
       "      <th>cuisine</th>\n",
       "    </tr>\n",
       "  </thead>\n",
       "  <tbody>\n",
       "    <tr>\n",
       "      <th>0</th>\n",
       "      <td>1379560</td>\n",
       "      <td>1</td>\n",
       "      <td>55</td>\n",
       "      <td>1885</td>\n",
       "      <td>136.83</td>\n",
       "      <td>152.29</td>\n",
       "      <td>0</td>\n",
       "      <td>0</td>\n",
       "      <td>177</td>\n",
       "      <td>647</td>\n",
       "      <td>56</td>\n",
       "      <td>TYPE_C</td>\n",
       "      <td>2.0</td>\n",
       "      <td>Beverages</td>\n",
       "      <td>Thai</td>\n",
       "    </tr>\n",
       "    <tr>\n",
       "      <th>1</th>\n",
       "      <td>1018704</td>\n",
       "      <td>2</td>\n",
       "      <td>55</td>\n",
       "      <td>1885</td>\n",
       "      <td>135.83</td>\n",
       "      <td>152.29</td>\n",
       "      <td>0</td>\n",
       "      <td>0</td>\n",
       "      <td>323</td>\n",
       "      <td>647</td>\n",
       "      <td>56</td>\n",
       "      <td>TYPE_C</td>\n",
       "      <td>2.0</td>\n",
       "      <td>Beverages</td>\n",
       "      <td>Thai</td>\n",
       "    </tr>\n",
       "    <tr>\n",
       "      <th>2</th>\n",
       "      <td>1196273</td>\n",
       "      <td>3</td>\n",
       "      <td>55</td>\n",
       "      <td>1885</td>\n",
       "      <td>132.92</td>\n",
       "      <td>133.92</td>\n",
       "      <td>0</td>\n",
       "      <td>0</td>\n",
       "      <td>96</td>\n",
       "      <td>647</td>\n",
       "      <td>56</td>\n",
       "      <td>TYPE_C</td>\n",
       "      <td>2.0</td>\n",
       "      <td>Beverages</td>\n",
       "      <td>Thai</td>\n",
       "    </tr>\n",
       "    <tr>\n",
       "      <th>3</th>\n",
       "      <td>1116527</td>\n",
       "      <td>4</td>\n",
       "      <td>55</td>\n",
       "      <td>1885</td>\n",
       "      <td>135.86</td>\n",
       "      <td>134.86</td>\n",
       "      <td>0</td>\n",
       "      <td>0</td>\n",
       "      <td>163</td>\n",
       "      <td>647</td>\n",
       "      <td>56</td>\n",
       "      <td>TYPE_C</td>\n",
       "      <td>2.0</td>\n",
       "      <td>Beverages</td>\n",
       "      <td>Thai</td>\n",
       "    </tr>\n",
       "    <tr>\n",
       "      <th>4</th>\n",
       "      <td>1343872</td>\n",
       "      <td>5</td>\n",
       "      <td>55</td>\n",
       "      <td>1885</td>\n",
       "      <td>146.50</td>\n",
       "      <td>147.50</td>\n",
       "      <td>0</td>\n",
       "      <td>0</td>\n",
       "      <td>215</td>\n",
       "      <td>647</td>\n",
       "      <td>56</td>\n",
       "      <td>TYPE_C</td>\n",
       "      <td>2.0</td>\n",
       "      <td>Beverages</td>\n",
       "      <td>Thai</td>\n",
       "    </tr>\n",
       "  </tbody>\n",
       "</table>\n",
       "</div>"
      ],
      "text/plain": [
       "        id  week  center_id  meal_id  checkout_price  base_price  \\\n",
       "0  1379560     1         55     1885          136.83      152.29   \n",
       "1  1018704     2         55     1885          135.83      152.29   \n",
       "2  1196273     3         55     1885          132.92      133.92   \n",
       "3  1116527     4         55     1885          135.86      134.86   \n",
       "4  1343872     5         55     1885          146.50      147.50   \n",
       "\n",
       "   emailer_for_promotion  homepage_featured  num_orders  city_code  \\\n",
       "0                      0                  0         177        647   \n",
       "1                      0                  0         323        647   \n",
       "2                      0                  0          96        647   \n",
       "3                      0                  0         163        647   \n",
       "4                      0                  0         215        647   \n",
       "\n",
       "   region_code center_type  op_area   category cuisine  \n",
       "0           56      TYPE_C      2.0  Beverages    Thai  \n",
       "1           56      TYPE_C      2.0  Beverages    Thai  \n",
       "2           56      TYPE_C      2.0  Beverages    Thai  \n",
       "3           56      TYPE_C      2.0  Beverages    Thai  \n",
       "4           56      TYPE_C      2.0  Beverages    Thai  "
      ]
     },
     "execution_count": 10,
     "metadata": {},
     "output_type": "execute_result"
    }
   ],
   "source": [
    "train.head()"
   ]
  },
  {
   "cell_type": "code",
   "execution_count": 11,
   "metadata": {
    "colab": {},
    "colab_type": "code",
    "id": "narJsfaI7kIX",
    "outputId": "27ec5754-1755-4231-d2d8-4f438b4dce6d"
   },
   "outputs": [
    {
     "name": "stdout",
     "output_type": "stream",
     "text": [
      "<class 'pandas.core.frame.DataFrame'>\n",
      "Int64Index: 456548 entries, 0 to 456547\n",
      "Data columns (total 15 columns):\n",
      " #   Column                 Non-Null Count   Dtype  \n",
      "---  ------                 --------------   -----  \n",
      " 0   id                     456548 non-null  int64  \n",
      " 1   week                   456548 non-null  int64  \n",
      " 2   center_id              456548 non-null  int64  \n",
      " 3   meal_id                456548 non-null  int64  \n",
      " 4   checkout_price         456548 non-null  float64\n",
      " 5   base_price             456548 non-null  float64\n",
      " 6   emailer_for_promotion  456548 non-null  int64  \n",
      " 7   homepage_featured      456548 non-null  int64  \n",
      " 8   num_orders             456548 non-null  int64  \n",
      " 9   city_code              456548 non-null  int64  \n",
      " 10  region_code            456548 non-null  int64  \n",
      " 11  center_type            456548 non-null  object \n",
      " 12  op_area                456548 non-null  float64\n",
      " 13  category               456548 non-null  object \n",
      " 14  cuisine                456548 non-null  object \n",
      "dtypes: float64(3), int64(9), object(3)\n",
      "memory usage: 55.7+ MB\n"
     ]
    }
   ],
   "source": [
    "train.info()"
   ]
  },
  {
   "cell_type": "markdown",
   "metadata": {},
   "source": [
    "#### Feature Engineering"
   ]
  },
  {
   "cell_type": "code",
   "execution_count": 12,
   "metadata": {
    "colab": {},
    "colab_type": "code",
    "id": "5Ub-zRN77kTN"
   },
   "outputs": [],
   "source": [
    "train['train_or_test'] = 'train'\n",
    "test['train_or_test'] = 'test'"
   ]
  },
  {
   "cell_type": "code",
   "execution_count": 13,
   "metadata": {
    "colab": {},
    "colab_type": "code",
    "id": "1JoOnr1i7kTR"
   },
   "outputs": [],
   "source": [
    "train['num_orders'] = np.log1p(train['num_orders'])"
   ]
  },
  {
   "cell_type": "code",
   "execution_count": 14,
   "metadata": {
    "colab": {},
    "colab_type": "code",
    "id": "dw1QtKCH7kTW"
   },
   "outputs": [],
   "source": [
    "total_data = train.append(test).reset_index(drop=True)[train.columns]"
   ]
  },
  {
   "cell_type": "code",
   "execution_count": 15,
   "metadata": {
    "colab": {},
    "colab_type": "code",
    "id": "rgHk_DO27kTZ"
   },
   "outputs": [],
   "source": [
    "total_data = total_data.sort_values(['center_id', 'meal_id', 'week']).reset_index(drop=True)"
   ]
  },
  {
   "cell_type": "code",
   "execution_count": 16,
   "metadata": {
    "colab": {},
    "colab_type": "code",
    "id": "tP2PxrPI7kTb"
   },
   "outputs": [],
   "source": [
    "total_data['checkout_price'] = np.log1p(total_data['checkout_price'])\n",
    "total_data['base_price'] = np.log1p(total_data['base_price'])"
   ]
  },
  {
   "cell_type": "code",
   "execution_count": 17,
   "metadata": {
    "colab": {},
    "colab_type": "code",
    "id": "cv0V3lD57kTf"
   },
   "outputs": [],
   "source": [
    "total_data['discount_on_base'] = (total_data['base_price'] - total_data['checkout_price']) / total_data['base_price']"
   ]
  },
  {
   "cell_type": "code",
   "execution_count": 18,
   "metadata": {},
   "outputs": [],
   "source": [
    "total_data[\"discount_ratio\"] = total_data[\"base_price\"] / total_data[\"checkout_price\"]"
   ]
  },
  {
   "cell_type": "code",
   "execution_count": 19,
   "metadata": {
    "colab": {
     "base_uri": "https://localhost:8080/",
     "height": 279
    },
    "colab_type": "code",
    "id": "V_ADelO_7kTl",
    "outputId": "582ff6c7-ab07-482b-a58f-2fc88cec1693"
   },
   "outputs": [
    {
     "name": "stderr",
     "output_type": "stream",
     "text": [
      "C:\\Users\\HP\\anaconda3\\lib\\site-packages\\ipykernel_launcher.py:2: UserWarning: Matplotlib is currently using agg, which is a non-GUI backend, so cannot show the figure.\n",
      "  \n"
     ]
    }
   ],
   "source": [
    "sns.distplot(total_data['discount_on_base'], bins=500)\n",
    "plt.show()"
   ]
  },
  {
   "cell_type": "code",
   "execution_count": 20,
   "metadata": {
    "colab": {},
    "colab_type": "code",
    "id": "N0NPuuEp7kT2"
   },
   "outputs": [],
   "source": [
    "total_data['price_last_curr_diff'] = (total_data['checkout_price'].shift(1) - total_data['checkout_price']).fillna(1)/ total_data['checkout_price'].shift(1).fillna(1)"
   ]
  },
  {
   "cell_type": "code",
   "execution_count": 21,
   "metadata": {
    "colab": {},
    "colab_type": "code",
    "id": "2t-wZU537kT5"
   },
   "outputs": [],
   "source": [
    "for _, r in total_data.groupby(['center_id', 'meal_id'])['week'].first().reset_index().iterrows():\n",
    "    total_data.loc[(total_data['center_id']==r['center_id']) & (total_data['meal_id']==r['meal_id']) & (total_data['week']==r['week']), 'price_last_curr_diff'] = total_data[(total_data['center_id']==r['center_id']) & (total_data['meal_id']==r['meal_id']) & (total_data['week']!=r['week'])]['price_last_curr_diff'].mean()\n",
    "total_data['price_last_curr_diff'] = total_data['price_last_curr_diff'].fillna(0)"
   ]
  },
  {
   "cell_type": "markdown",
   "metadata": {
    "colab_type": "text",
    "id": "dFDVjtZx7kU3"
   },
   "source": [
    "#### Some functions to create aggregated, rolling mean/median, and exponentially weighted features.\n",
    "\n",
    "Code from : https://www.kaggle.com/abhilashawasthi/feature-engineering-lgb-model"
   ]
  },
  {
   "cell_type": "code",
   "execution_count": 22,
   "metadata": {
    "colab": {},
    "colab_type": "code",
    "id": "AamBqWtd7kU7"
   },
   "outputs": [],
   "source": [
    "# Features constructed from previous sales values\n",
    "\n",
    "#Creating sales lag features\n",
    "def create_sales_lag_feats(df, gpby_cols, target_col, lags):\n",
    "    gpby = df.groupby(gpby_cols)\n",
    "    for i in lags:\n",
    "        df['_'.join([target_col, 'lag', str(i)])] = \\\n",
    "                gpby[target_col].shift(i).values + np.random.normal(scale=1.6, size=(len(df),))\n",
    "    return df\n",
    "\n",
    "# Creating sales exponentially weighted mean features\n",
    "def create_sales_ewm_feats(df, gpby_cols, target_col, alpha=[0.9], shift=[1]):\n",
    "    gpby = df.groupby(gpby_cols)\n",
    "    for a in alpha:\n",
    "        for s in shift:\n",
    "            df['_'.join([target_col, 'lag', str(s), 'ewm', str(a)])] = \\\n",
    "                gpby[target_col].shift(s).ewm(alpha=a).mean().values\n",
    "    return df"
   ]
  },
  {
   "cell_type": "code",
   "execution_count": 23,
   "metadata": {
    "colab": {},
    "colab_type": "code",
    "id": "kwc4SNbZ7kVC"
   },
   "outputs": [],
   "source": [
    "# Creating num_orders lag, rolling mean, rolling median, ohe features of the above train set\n",
    "total_data = create_sales_lag_feats(total_data, gpby_cols=['center_id','meal_id'], target_col='num_orders', \n",
    "                               lags=[10,11, 12])\n",
    "\n",
    "total_data = create_sales_ewm_feats(total_data, gpby_cols=['center_id','meal_id'], \n",
    "                               target_col='num_orders', \n",
    "                               alpha=[0.5], \n",
    "                               shift=[10,11,12,13,14,15])"
   ]
  },
  {
   "cell_type": "code",
   "execution_count": 24,
   "metadata": {},
   "outputs": [
    {
     "data": {
      "text/html": [
       "<div>\n",
       "<style scoped>\n",
       "    .dataframe tbody tr th:only-of-type {\n",
       "        vertical-align: middle;\n",
       "    }\n",
       "\n",
       "    .dataframe tbody tr th {\n",
       "        vertical-align: top;\n",
       "    }\n",
       "\n",
       "    .dataframe thead th {\n",
       "        text-align: right;\n",
       "    }\n",
       "</style>\n",
       "<table border=\"1\" class=\"dataframe\">\n",
       "  <thead>\n",
       "    <tr style=\"text-align: right;\">\n",
       "      <th></th>\n",
       "      <th>id</th>\n",
       "      <th>week</th>\n",
       "      <th>center_id</th>\n",
       "      <th>meal_id</th>\n",
       "      <th>checkout_price</th>\n",
       "      <th>base_price</th>\n",
       "      <th>emailer_for_promotion</th>\n",
       "      <th>homepage_featured</th>\n",
       "      <th>num_orders</th>\n",
       "      <th>city_code</th>\n",
       "      <th>...</th>\n",
       "      <th>price_last_curr_diff</th>\n",
       "      <th>num_orders_lag_10</th>\n",
       "      <th>num_orders_lag_11</th>\n",
       "      <th>num_orders_lag_12</th>\n",
       "      <th>num_orders_lag_10_ewm_0.5</th>\n",
       "      <th>num_orders_lag_11_ewm_0.5</th>\n",
       "      <th>num_orders_lag_12_ewm_0.5</th>\n",
       "      <th>num_orders_lag_13_ewm_0.5</th>\n",
       "      <th>num_orders_lag_14_ewm_0.5</th>\n",
       "      <th>num_orders_lag_15_ewm_0.5</th>\n",
       "    </tr>\n",
       "  </thead>\n",
       "  <tbody>\n",
       "    <tr>\n",
       "      <th>0</th>\n",
       "      <td>1436842</td>\n",
       "      <td>1</td>\n",
       "      <td>10</td>\n",
       "      <td>1062</td>\n",
       "      <td>5.206147</td>\n",
       "      <td>5.206147</td>\n",
       "      <td>0</td>\n",
       "      <td>0</td>\n",
       "      <td>6.763885</td>\n",
       "      <td>590</td>\n",
       "      <td>...</td>\n",
       "      <td>0.000086</td>\n",
       "      <td>NaN</td>\n",
       "      <td>NaN</td>\n",
       "      <td>NaN</td>\n",
       "      <td>NaN</td>\n",
       "      <td>NaN</td>\n",
       "      <td>NaN</td>\n",
       "      <td>NaN</td>\n",
       "      <td>NaN</td>\n",
       "      <td>NaN</td>\n",
       "    </tr>\n",
       "    <tr>\n",
       "      <th>1</th>\n",
       "      <td>1205013</td>\n",
       "      <td>2</td>\n",
       "      <td>10</td>\n",
       "      <td>1062</td>\n",
       "      <td>5.216890</td>\n",
       "      <td>5.211451</td>\n",
       "      <td>0</td>\n",
       "      <td>0</td>\n",
       "      <td>6.663133</td>\n",
       "      <td>590</td>\n",
       "      <td>...</td>\n",
       "      <td>-0.002064</td>\n",
       "      <td>NaN</td>\n",
       "      <td>NaN</td>\n",
       "      <td>NaN</td>\n",
       "      <td>NaN</td>\n",
       "      <td>NaN</td>\n",
       "      <td>NaN</td>\n",
       "      <td>NaN</td>\n",
       "      <td>NaN</td>\n",
       "      <td>NaN</td>\n",
       "    </tr>\n",
       "    <tr>\n",
       "      <th>2</th>\n",
       "      <td>1447751</td>\n",
       "      <td>3</td>\n",
       "      <td>10</td>\n",
       "      <td>1062</td>\n",
       "      <td>5.222300</td>\n",
       "      <td>5.211451</td>\n",
       "      <td>0</td>\n",
       "      <td>0</td>\n",
       "      <td>6.747587</td>\n",
       "      <td>590</td>\n",
       "      <td>...</td>\n",
       "      <td>-0.001037</td>\n",
       "      <td>NaN</td>\n",
       "      <td>NaN</td>\n",
       "      <td>NaN</td>\n",
       "      <td>NaN</td>\n",
       "      <td>NaN</td>\n",
       "      <td>NaN</td>\n",
       "      <td>NaN</td>\n",
       "      <td>NaN</td>\n",
       "      <td>NaN</td>\n",
       "    </tr>\n",
       "    <tr>\n",
       "      <th>3</th>\n",
       "      <td>1014968</td>\n",
       "      <td>4</td>\n",
       "      <td>10</td>\n",
       "      <td>1062</td>\n",
       "      <td>5.211451</td>\n",
       "      <td>5.216890</td>\n",
       "      <td>0</td>\n",
       "      <td>0</td>\n",
       "      <td>7.092574</td>\n",
       "      <td>590</td>\n",
       "      <td>...</td>\n",
       "      <td>0.002077</td>\n",
       "      <td>NaN</td>\n",
       "      <td>NaN</td>\n",
       "      <td>NaN</td>\n",
       "      <td>NaN</td>\n",
       "      <td>NaN</td>\n",
       "      <td>NaN</td>\n",
       "      <td>NaN</td>\n",
       "      <td>NaN</td>\n",
       "      <td>NaN</td>\n",
       "    </tr>\n",
       "    <tr>\n",
       "      <th>4</th>\n",
       "      <td>1003563</td>\n",
       "      <td>5</td>\n",
       "      <td>10</td>\n",
       "      <td>1062</td>\n",
       "      <td>5.217053</td>\n",
       "      <td>5.206147</td>\n",
       "      <td>0</td>\n",
       "      <td>0</td>\n",
       "      <td>6.865891</td>\n",
       "      <td>590</td>\n",
       "      <td>...</td>\n",
       "      <td>-0.001075</td>\n",
       "      <td>NaN</td>\n",
       "      <td>NaN</td>\n",
       "      <td>NaN</td>\n",
       "      <td>NaN</td>\n",
       "      <td>NaN</td>\n",
       "      <td>NaN</td>\n",
       "      <td>NaN</td>\n",
       "      <td>NaN</td>\n",
       "      <td>NaN</td>\n",
       "    </tr>\n",
       "  </tbody>\n",
       "</table>\n",
       "<p>5 rows × 28 columns</p>\n",
       "</div>"
      ],
      "text/plain": [
       "        id  week  center_id  meal_id  checkout_price  base_price  \\\n",
       "0  1436842     1         10     1062        5.206147    5.206147   \n",
       "1  1205013     2         10     1062        5.216890    5.211451   \n",
       "2  1447751     3         10     1062        5.222300    5.211451   \n",
       "3  1014968     4         10     1062        5.211451    5.216890   \n",
       "4  1003563     5         10     1062        5.217053    5.206147   \n",
       "\n",
       "   emailer_for_promotion  homepage_featured  num_orders  city_code  ...  \\\n",
       "0                      0                  0    6.763885        590  ...   \n",
       "1                      0                  0    6.663133        590  ...   \n",
       "2                      0                  0    6.747587        590  ...   \n",
       "3                      0                  0    7.092574        590  ...   \n",
       "4                      0                  0    6.865891        590  ...   \n",
       "\n",
       "   price_last_curr_diff num_orders_lag_10  num_orders_lag_11  \\\n",
       "0              0.000086               NaN                NaN   \n",
       "1             -0.002064               NaN                NaN   \n",
       "2             -0.001037               NaN                NaN   \n",
       "3              0.002077               NaN                NaN   \n",
       "4             -0.001075               NaN                NaN   \n",
       "\n",
       "  num_orders_lag_12 num_orders_lag_10_ewm_0.5 num_orders_lag_11_ewm_0.5  \\\n",
       "0               NaN                       NaN                       NaN   \n",
       "1               NaN                       NaN                       NaN   \n",
       "2               NaN                       NaN                       NaN   \n",
       "3               NaN                       NaN                       NaN   \n",
       "4               NaN                       NaN                       NaN   \n",
       "\n",
       "   num_orders_lag_12_ewm_0.5  num_orders_lag_13_ewm_0.5  \\\n",
       "0                        NaN                        NaN   \n",
       "1                        NaN                        NaN   \n",
       "2                        NaN                        NaN   \n",
       "3                        NaN                        NaN   \n",
       "4                        NaN                        NaN   \n",
       "\n",
       "   num_orders_lag_14_ewm_0.5  num_orders_lag_15_ewm_0.5  \n",
       "0                        NaN                        NaN  \n",
       "1                        NaN                        NaN  \n",
       "2                        NaN                        NaN  \n",
       "3                        NaN                        NaN  \n",
       "4                        NaN                        NaN  \n",
       "\n",
       "[5 rows x 28 columns]"
      ]
     },
     "execution_count": 24,
     "metadata": {},
     "output_type": "execute_result"
    }
   ],
   "source": [
    "total_data.head()"
   ]
  },
  {
   "cell_type": "code",
   "execution_count": 25,
   "metadata": {},
   "outputs": [],
   "source": [
    "### Center count features ###\n",
    "gdf = total_data.groupby([\"center_id\", \"week\"])[\"id\"].agg(['size']).reset_index()\n",
    "gdf.columns = [\"center_id\", \"week\", \"center_week_count\"]\n",
    "total_data = pd.merge(total_data,gdf, on=[\"center_id\", \"week\"], how=\"left\")\n",
    "\n",
    "gdf = total_data.groupby([\"center_id\", \"category\"])[\"id\"].count().reset_index()\n",
    "gdf.columns = [\"center_id\", \"category\", \"center_cat_count\"]\n",
    "total_data = pd.merge(total_data,gdf, on=[\"center_id\", \"category\"], how=\"left\")\n",
    "\n",
    "gdf = total_data.groupby([\"center_id\", \"category\", \"week\"])[\"id\"].count().reset_index()\n",
    "gdf.columns = [\"center_id\", \"category\", \"week\", \"center_cat_week_count\"]\n",
    "total_data = pd.merge(total_data,gdf, on=[\"center_id\", \"category\", \"week\"], how=\"left\")\n",
    "\n",
    "gdf = total_data.groupby([\"center_id\", \"cuisine\"])[\"id\"].count().reset_index()\n",
    "gdf.columns = [\"center_id\", \"cuisine\", \"center_cui_count\"]\n",
    "total_data = pd.merge(total_data,gdf, on=[\"center_id\", \"cuisine\"], how=\"left\")"
   ]
  },
  {
   "cell_type": "code",
   "execution_count": 26,
   "metadata": {},
   "outputs": [],
   "source": [
    "### Meal count features ###\n",
    "gdf = total_data.groupby([\"meal_id\"])[\"id\"].count().reset_index()\n",
    "gdf.columns = [\"meal_id\", \"meal_count\"]\n",
    "total_data = pd.merge(total_data,gdf, on=[\"meal_id\"], how=\"left\")\n",
    "\n",
    "gdf = total_data.groupby([\"region_code\", \"meal_id\"])[\"id\"].count().reset_index()\n",
    "gdf.columns = [\"region_code\", \"meal_id\", \"region_meal_count\"]\n",
    "total_data= pd.merge(total_data,gdf, on=[\"region_code\", \"meal_id\"], how=\"left\")\n",
    "\n",
    "gdf = total_data.groupby([\"meal_id\", \"week\"])[\"id\"].count().reset_index()\n",
    "gdf.columns = [\"meal_id\", \"week\", \"meal_week_count\"]\n",
    "total_data = pd.merge(total_data,gdf, on=[\"meal_id\", \"week\"], how=\"left\")\n",
    "\n",
    "gdf =total_data.groupby([\"center_type\", \"meal_id\", \"week\"])[\"id\"].count().reset_index()\n",
    "gdf.columns = [\"center_type\", \"meal_id\", \"week\", \"type_meal_week_count\"]\n",
    "total_data = pd.merge(total_data,gdf, on=[\"center_type\", \"meal_id\", \"week\"], how=\"left\")\n",
    "\n",
    "gdf = total_data.groupby([\"region_code\", \"meal_id\", \"week\"])[\"id\"].count().reset_index()\n",
    "gdf.columns = [\"region_code\", \"meal_id\", \"week\", \"region_meal_week_count\"]\n",
    "total_data = pd.merge(total_data,gdf, on=[\"region_code\", \"meal_id\", \"week\"], how=\"left\")\n",
    "\n",
    "gdf =total_data.groupby([\"city_code\", \"meal_id\", \"week\"])[\"id\"].count().reset_index()\n",
    "gdf.columns = [\"city_code\", \"meal_id\", \"week\", \"city_meal_week_count\"]\n",
    "total_data = pd.merge(total_data,gdf, on=[\"city_code\", \"meal_id\", \"week\"], how=\"left\")"
   ]
  },
  {
   "cell_type": "code",
   "execution_count": 27,
   "metadata": {},
   "outputs": [],
   "source": [
    "### Price rank ###\n",
    "total_data[\"meal_price_rank\"] = total_data.groupby(\"meal_id\")[\"checkout_price\"].rank()\n",
    "total_data[\"meal_city_price_rank\"] =total_data.groupby([\"meal_id\", \"city_code\"])[\"checkout_price\"].rank()\n",
    "total_data[\"meal_region_price_rank\"] = total_data.groupby([\"meal_id\", \"region_code\"])[\"checkout_price\"].rank()\n",
    "total_data[\"meal_week_price_rank\"] = total_data.groupby([\"meal_id\", \"week\"])[\"checkout_price\"].rank()\n",
    "\n",
    "total_data[\"center_price_rank\"] = total_data.groupby(\"center_id\")[\"checkout_price\"].rank()\n",
    "total_data[\"center_week_price_rank\"] = total_data.groupby([\"center_id\", \"week\"])[\"checkout_price\"].rank()\n",
    "total_data[\"center_cat_price_rank\"] = total_data.groupby([\"center_id\", \"category\"])[\"checkout_price\"].rank()"
   ]
  },
  {
   "cell_type": "code",
   "execution_count": 28,
   "metadata": {},
   "outputs": [],
   "source": [
    "### Week features ###\n",
    "gdf = total_data.groupby([\"meal_id\"])[\"checkout_price\"].agg([\"min\", \"max\", \"mean\", \"std\"]).reset_index()\n",
    "gdf.columns = [\"meal_id\", \"meal_price_min\", \"meal_price_max\", \"meal_price_mean\", \"meal_price_std\"]\n",
    "total_data = pd.merge(total_data,gdf, on=[\"meal_id\"], how=\"left\")\n",
    "\n",
    "gdf = total_data.groupby([\"meal_id\"])[\"base_price\"].agg([\"min\", \"max\", \"mean\", \"std\"]).reset_index()\n",
    "gdf.columns = [\"meal_id\", \"disc_price_min\", \"disc_price_max\", \"disc_price_mean\", \"disc_price_std\"]\n",
    "total_data = pd.merge(total_data,gdf, on=[\"meal_id\"], how=\"left\")\n",
    "\n",
    "gdf = total_data.groupby([\"city_code\",\"meal_id\", \"week\"])[\"checkout_price\"].agg([\"min\", \"max\", \"mean\", \"std\"]).reset_index()\n",
    "gdf.columns = [\"city_code\", \"meal_id\", \"week\", \"meal_price2_min\", \"meal_price2_max\", \"meal_price2_mean\", \"meal_price2_std\"]\n",
    "total_data= pd.merge(total_data,gdf, on=[\"city_code\", \"meal_id\", \"week\"], how=\"left\")\n",
    "\n",
    "gdf = total_data.groupby([\"city_code\", \"category\"])[\"checkout_price\"].agg([\"mean\", \"std\"]).reset_index()\n",
    "gdf.columns = [\"city_code\", \"category\", \"meal_price3_mean\", \"meal_price3_std\"]\n",
    "total_datal = pd.merge(total_data,gdf, on=[\"city_code\", \"category\"], how=\"left\")"
   ]
  },
  {
   "cell_type": "code",
   "execution_count": 29,
   "metadata": {},
   "outputs": [],
   "source": [
    "total_data['center_id'] = total_data['center_id'].astype(np.object)\n",
    "total_data['meal_id'] = total_data['meal_id'].astype(np.object)\n",
    "total_data['region_code'] = total_data['region_code'].astype(np.object)\n",
    "total_datal['city_code'] = total_data['city_code'].astype(np.object)"
   ]
  },
  {
   "cell_type": "code",
   "execution_count": 30,
   "metadata": {
    "colab": {},
    "colab_type": "code",
    "id": "u2qcWb-j7kVv"
   },
   "outputs": [],
   "source": [
    "train_data = total_data.loc[total_data['train_or_test']=='train', :]\n",
    "test_data = total_data.loc[total_data['train_or_test']=='test', :]"
   ]
  },
  {
   "cell_type": "code",
   "execution_count": 31,
   "metadata": {},
   "outputs": [],
   "source": [
    "center_meal_mean = train_data.groupby(['center_id','meal_id'])['num_orders'].mean()\n",
    "center_meal_mean = center_meal_mean.reset_index()\n",
    "center_meal_mean = center_meal_mean.rename(columns={'num_orders':'avg_orders'})\n",
    "train_data = pd.merge(train_data,center_meal_mean, how='left', left_on=['center_id','meal_id'], right_on = ['center_id','meal_id'])\n",
    "test_data = pd.merge(test_data,center_meal_mean, how='left', left_on=['center_id','meal_id'], right_on = ['center_id','meal_id'])\n",
    "center_mean = train_data.groupby('center_id')['num_orders'].mean()\n",
    "center_mean = center_mean.reset_index()\n",
    "center_mean = center_mean.rename(columns={'num_orders':'avg_center'})\n",
    "train_data = pd.merge(train_data,center_mean, how='left', left_on=['center_id'], right_on = ['center_id'])\n",
    "test_data = pd.merge(test_data,center_mean, how='left', left_on=['center_id'], right_on = ['center_id'])\n",
    "meal_mean = train_data.groupby('meal_id')['num_orders'].mean()\n",
    "meal_mean = meal_mean.reset_index()\n",
    "meal_mean = meal_mean.rename(columns={'num_orders':'avg_meal'})\n",
    "train_data = pd.merge(train_data, meal_mean,how='left',left_on=['meal_id'], right_on = ['meal_id'])\n",
    "test_data = pd.merge(test_data, meal_mean,how='left',left_on=['meal_id'], right_on = ['meal_id'])"
   ]
  },
  {
   "cell_type": "code",
   "execution_count": 32,
   "metadata": {
    "colab": {
     "base_uri": "https://localhost:8080/",
     "height": 34
    },
    "colab_type": "code",
    "id": "P0X-hzgj7kVy",
    "outputId": "36bbd97a-1624-4549-eab0-6a885cdb5c72"
   },
   "outputs": [
    {
     "name": "stdout",
     "output_type": "stream",
     "text": [
      "<class 'pandas.core.frame.DataFrame'>\n",
      "Int64Index: 456548 entries, 0 to 456547\n",
      "Data columns (total 60 columns):\n",
      " #   Column                     Non-Null Count   Dtype  \n",
      "---  ------                     --------------   -----  \n",
      " 0   id                         456548 non-null  int64  \n",
      " 1   week                       456548 non-null  int64  \n",
      " 2   center_id                  456548 non-null  object \n",
      " 3   meal_id                    456548 non-null  object \n",
      " 4   checkout_price             456548 non-null  float64\n",
      " 5   base_price                 456548 non-null  float64\n",
      " 6   emailer_for_promotion      456548 non-null  int64  \n",
      " 7   homepage_featured          456548 non-null  int64  \n",
      " 8   num_orders                 456548 non-null  float64\n",
      " 9   city_code                  456548 non-null  int64  \n",
      " 10  region_code                456548 non-null  object \n",
      " 11  center_type                456548 non-null  object \n",
      " 12  op_area                    456548 non-null  float64\n",
      " 13  category                   456548 non-null  object \n",
      " 14  cuisine                    456548 non-null  object \n",
      " 15  train_or_test              456548 non-null  object \n",
      " 16  discount_on_base           456548 non-null  float64\n",
      " 17  discount_ratio             456548 non-null  float64\n",
      " 18  price_last_curr_diff       456548 non-null  float64\n",
      " 19  num_orders_lag_10          420705 non-null  float64\n",
      " 20  num_orders_lag_11          417136 non-null  float64\n",
      " 21  num_orders_lag_12          413568 non-null  float64\n",
      " 22  num_orders_lag_10_ewm_0.5  456538 non-null  float64\n",
      " 23  num_orders_lag_11_ewm_0.5  456537 non-null  float64\n",
      " 24  num_orders_lag_12_ewm_0.5  456536 non-null  float64\n",
      " 25  num_orders_lag_13_ewm_0.5  456535 non-null  float64\n",
      " 26  num_orders_lag_14_ewm_0.5  456534 non-null  float64\n",
      " 27  num_orders_lag_15_ewm_0.5  456533 non-null  float64\n",
      " 28  center_week_count          456548 non-null  int64  \n",
      " 29  center_cat_count           456548 non-null  int64  \n",
      " 30  center_cat_week_count      456548 non-null  int64  \n",
      " 31  center_cui_count           456548 non-null  int64  \n",
      " 32  meal_count                 456548 non-null  int64  \n",
      " 33  region_meal_count          456548 non-null  int64  \n",
      " 34  meal_week_count            456548 non-null  int64  \n",
      " 35  type_meal_week_count       456548 non-null  int64  \n",
      " 36  region_meal_week_count     456548 non-null  int64  \n",
      " 37  city_meal_week_count       456548 non-null  int64  \n",
      " 38  meal_price_rank            456548 non-null  float64\n",
      " 39  meal_city_price_rank       456548 non-null  float64\n",
      " 40  meal_region_price_rank     456548 non-null  float64\n",
      " 41  meal_week_price_rank       456548 non-null  float64\n",
      " 42  center_price_rank          456548 non-null  float64\n",
      " 43  center_week_price_rank     456548 non-null  float64\n",
      " 44  center_cat_price_rank      456548 non-null  float64\n",
      " 45  meal_price_min             456548 non-null  float64\n",
      " 46  meal_price_max             456548 non-null  float64\n",
      " 47  meal_price_mean            456548 non-null  float64\n",
      " 48  meal_price_std             456548 non-null  float64\n",
      " 49  disc_price_min             456548 non-null  float64\n",
      " 50  disc_price_max             456548 non-null  float64\n",
      " 51  disc_price_mean            456548 non-null  float64\n",
      " 52  disc_price_std             456548 non-null  float64\n",
      " 53  meal_price2_min            456548 non-null  float64\n",
      " 54  meal_price2_max            456548 non-null  float64\n",
      " 55  meal_price2_mean           456548 non-null  float64\n",
      " 56  meal_price2_std            216269 non-null  float64\n",
      " 57  avg_orders                 456548 non-null  float64\n",
      " 58  avg_center                 456548 non-null  float64\n",
      " 59  avg_meal                   456548 non-null  float64\n",
      "dtypes: float64(38), int64(15), object(7)\n",
      "memory usage: 212.5+ MB\n"
     ]
    }
   ],
   "source": [
    "train_data.info()"
   ]
  },
  {
   "cell_type": "code",
   "execution_count": 33,
   "metadata": {
    "colab": {
     "base_uri": "https://localhost:8080/",
     "height": 34
    },
    "colab_type": "code",
    "id": "pHgLmVs-7kV-",
    "outputId": "50a231fc-b07b-4fe5-be7b-9c571a3dc6a7"
   },
   "outputs": [
    {
     "name": "stdout",
     "output_type": "stream",
     "text": [
      "<class 'pandas.core.frame.DataFrame'>\n",
      "Int64Index: 32573 entries, 0 to 32572\n",
      "Data columns (total 60 columns):\n",
      " #   Column                     Non-Null Count  Dtype  \n",
      "---  ------                     --------------  -----  \n",
      " 0   id                         32573 non-null  int64  \n",
      " 1   week                       32573 non-null  int64  \n",
      " 2   center_id                  32573 non-null  object \n",
      " 3   meal_id                    32573 non-null  object \n",
      " 4   checkout_price             32573 non-null  float64\n",
      " 5   base_price                 32573 non-null  float64\n",
      " 6   emailer_for_promotion      32573 non-null  int64  \n",
      " 7   homepage_featured          32573 non-null  int64  \n",
      " 8   num_orders                 0 non-null      float64\n",
      " 9   city_code                  32573 non-null  int64  \n",
      " 10  region_code                32573 non-null  object \n",
      " 11  center_type                32573 non-null  object \n",
      " 12  op_area                    32573 non-null  float64\n",
      " 13  category                   32573 non-null  object \n",
      " 14  cuisine                    32573 non-null  object \n",
      " 15  train_or_test              32573 non-null  object \n",
      " 16  discount_on_base           32573 non-null  float64\n",
      " 17  discount_ratio             32573 non-null  float64\n",
      " 18  price_last_curr_diff       32573 non-null  float64\n",
      " 19  num_orders_lag_10          32539 non-null  float64\n",
      " 20  num_orders_lag_11          32536 non-null  float64\n",
      " 21  num_orders_lag_12          32533 non-null  float64\n",
      " 22  num_orders_lag_10_ewm_0.5  32573 non-null  float64\n",
      " 23  num_orders_lag_11_ewm_0.5  32573 non-null  float64\n",
      " 24  num_orders_lag_12_ewm_0.5  32573 non-null  float64\n",
      " 25  num_orders_lag_13_ewm_0.5  32573 non-null  float64\n",
      " 26  num_orders_lag_14_ewm_0.5  32573 non-null  float64\n",
      " 27  num_orders_lag_15_ewm_0.5  32573 non-null  float64\n",
      " 28  center_week_count          32573 non-null  int64  \n",
      " 29  center_cat_count           32573 non-null  int64  \n",
      " 30  center_cat_week_count      32573 non-null  int64  \n",
      " 31  center_cui_count           32573 non-null  int64  \n",
      " 32  meal_count                 32573 non-null  int64  \n",
      " 33  region_meal_count          32573 non-null  int64  \n",
      " 34  meal_week_count            32573 non-null  int64  \n",
      " 35  type_meal_week_count       32573 non-null  int64  \n",
      " 36  region_meal_week_count     32573 non-null  int64  \n",
      " 37  city_meal_week_count       32573 non-null  int64  \n",
      " 38  meal_price_rank            32573 non-null  float64\n",
      " 39  meal_city_price_rank       32573 non-null  float64\n",
      " 40  meal_region_price_rank     32573 non-null  float64\n",
      " 41  meal_week_price_rank       32573 non-null  float64\n",
      " 42  center_price_rank          32573 non-null  float64\n",
      " 43  center_week_price_rank     32573 non-null  float64\n",
      " 44  center_cat_price_rank      32573 non-null  float64\n",
      " 45  meal_price_min             32573 non-null  float64\n",
      " 46  meal_price_max             32573 non-null  float64\n",
      " 47  meal_price_mean            32573 non-null  float64\n",
      " 48  meal_price_std             32573 non-null  float64\n",
      " 49  disc_price_min             32573 non-null  float64\n",
      " 50  disc_price_max             32573 non-null  float64\n",
      " 51  disc_price_mean            32573 non-null  float64\n",
      " 52  disc_price_std             32573 non-null  float64\n",
      " 53  meal_price2_min            32573 non-null  float64\n",
      " 54  meal_price2_max            32573 non-null  float64\n",
      " 55  meal_price2_mean           32573 non-null  float64\n",
      " 56  meal_price2_std            15528 non-null  float64\n",
      " 57  avg_orders                 32560 non-null  float64\n",
      " 58  avg_center                 32573 non-null  float64\n",
      " 59  avg_meal                   32573 non-null  float64\n",
      "dtypes: float64(38), int64(15), object(7)\n",
      "memory usage: 15.2+ MB\n"
     ]
    }
   ],
   "source": [
    "test_data.info()"
   ]
  },
  {
   "cell_type": "markdown",
   "metadata": {
    "colab_type": "text",
    "id": "Iq5-zOqi7kWX"
   },
   "source": [
    "###  Model"
   ]
  },
  {
   "cell_type": "code",
   "execution_count": 34,
   "metadata": {
    "colab": {},
    "colab_type": "code",
    "id": "5UCMCvsI7kWX"
   },
   "outputs": [],
   "source": [
    "avoid_column = ['id', 'num_orders', 'train_or_test']"
   ]
  },
  {
   "cell_type": "code",
   "execution_count": 35,
   "metadata": {
    "colab": {},
    "colab_type": "code",
    "id": "Kcw7yUIX7kWZ",
    "scrolled": true
   },
   "outputs": [],
   "source": [
    "features = [col for col in test_data.columns if col not in avoid_column]"
   ]
  },
  {
   "cell_type": "code",
   "execution_count": 36,
   "metadata": {
    "colab": {
     "base_uri": "https://localhost:8080/",
     "height": 374
    },
    "colab_type": "code",
    "id": "NiL0jKAjDasm",
    "outputId": "b5b73194-7848-4407-aa6d-7a881fa3b45e",
    "scrolled": false
   },
   "outputs": [
    {
     "data": {
      "text/plain": [
       "['week',\n",
       " 'center_id',\n",
       " 'meal_id',\n",
       " 'checkout_price',\n",
       " 'base_price',\n",
       " 'emailer_for_promotion',\n",
       " 'homepage_featured',\n",
       " 'city_code',\n",
       " 'region_code',\n",
       " 'center_type',\n",
       " 'op_area',\n",
       " 'category',\n",
       " 'cuisine',\n",
       " 'discount_on_base',\n",
       " 'discount_ratio',\n",
       " 'price_last_curr_diff',\n",
       " 'num_orders_lag_10',\n",
       " 'num_orders_lag_11',\n",
       " 'num_orders_lag_12',\n",
       " 'num_orders_lag_10_ewm_0.5',\n",
       " 'num_orders_lag_11_ewm_0.5',\n",
       " 'num_orders_lag_12_ewm_0.5',\n",
       " 'num_orders_lag_13_ewm_0.5',\n",
       " 'num_orders_lag_14_ewm_0.5',\n",
       " 'num_orders_lag_15_ewm_0.5',\n",
       " 'center_week_count',\n",
       " 'center_cat_count',\n",
       " 'center_cat_week_count',\n",
       " 'center_cui_count',\n",
       " 'meal_count',\n",
       " 'region_meal_count',\n",
       " 'meal_week_count',\n",
       " 'type_meal_week_count',\n",
       " 'region_meal_week_count',\n",
       " 'city_meal_week_count',\n",
       " 'meal_price_rank',\n",
       " 'meal_city_price_rank',\n",
       " 'meal_region_price_rank',\n",
       " 'meal_week_price_rank',\n",
       " 'center_price_rank',\n",
       " 'center_week_price_rank',\n",
       " 'center_cat_price_rank',\n",
       " 'meal_price_min',\n",
       " 'meal_price_max',\n",
       " 'meal_price_mean',\n",
       " 'meal_price_std',\n",
       " 'disc_price_min',\n",
       " 'disc_price_max',\n",
       " 'disc_price_mean',\n",
       " 'disc_price_std',\n",
       " 'meal_price2_min',\n",
       " 'meal_price2_max',\n",
       " 'meal_price2_mean',\n",
       " 'meal_price2_std',\n",
       " 'avg_orders',\n",
       " 'avg_center',\n",
       " 'avg_meal']"
      ]
     },
     "execution_count": 36,
     "metadata": {},
     "output_type": "execute_result"
    }
   ],
   "source": [
    "features"
   ]
  },
  {
   "cell_type": "code",
   "execution_count": 37,
   "metadata": {},
   "outputs": [
    {
     "data": {
      "text/plain": [
       "array([ 1,  2,  8,  9, 11, 12], dtype=int64)"
      ]
     },
     "execution_count": 37,
     "metadata": {},
     "output_type": "execute_result"
    }
   ],
   "source": [
    "categorical_features_indices = np.where(train_data[features].dtypes =='object')[0]\n",
    "categorical_features_indices"
   ]
  },
  {
   "cell_type": "code",
   "execution_count": 38,
   "metadata": {
    "colab": {},
    "colab_type": "code",
    "id": "GJuUz2mm7kWg"
   },
   "outputs": [],
   "source": [
    "model = CatBoostRegressor(\n",
    "    iterations=2000, \n",
    "    learning_rate=0.02, \n",
    "    max_depth=8, \n",
    "    l2_leaf_reg=10, \n",
    "    loss_function='RMSE',\n",
    "    random_seed=2019,\n",
    "    od_type='Iter',\n",
    "    od_wait=25,\n",
    "    verbose=100,\n",
    "    use_best_model=True\n",
    "    )"
   ]
  },
  {
   "cell_type": "code",
   "execution_count": 39,
   "metadata": {},
   "outputs": [
    {
     "name": "stdout",
     "output_type": "stream",
     "text": [
      "0:\tlearn: 4.9370144\ttest: 4.9330321\tbest: 4.9330321 (0)\ttotal: 738ms\tremaining: 24m 34s\n",
      "100:\tlearn: 0.8500723\ttest: 0.8518383\tbest: 0.8518383 (100)\ttotal: 1m 6s\tremaining: 20m 55s\n",
      "200:\tlearn: 0.5108336\ttest: 0.5138408\tbest: 0.5138408 (200)\ttotal: 2m 13s\tremaining: 19m 56s\n",
      "300:\tlearn: 0.4911255\ttest: 0.4943918\tbest: 0.4943918 (300)\ttotal: 3m 13s\tremaining: 18m 12s\n",
      "400:\tlearn: 0.4838678\ttest: 0.4874441\tbest: 0.4874441 (400)\ttotal: 4m 11s\tremaining: 16m 43s\n",
      "500:\tlearn: 0.4785143\ttest: 0.4824081\tbest: 0.4824081 (500)\ttotal: 5m 11s\tremaining: 15m 31s\n",
      "600:\tlearn: 0.4745513\ttest: 0.4787625\tbest: 0.4787625 (600)\ttotal: 6m 6s\tremaining: 14m 12s\n",
      "700:\tlearn: 0.4711107\ttest: 0.4756366\tbest: 0.4756366 (700)\ttotal: 6m 59s\tremaining: 12m 58s\n",
      "800:\tlearn: 0.4681120\ttest: 0.4729401\tbest: 0.4729401 (800)\ttotal: 7m 57s\tremaining: 11m 54s\n",
      "900:\tlearn: 0.4656212\ttest: 0.4707673\tbest: 0.4707673 (900)\ttotal: 8m 50s\tremaining: 10m 47s\n",
      "1000:\tlearn: 0.4634446\ttest: 0.4689251\tbest: 0.4689251 (1000)\ttotal: 9m 43s\tremaining: 9m 42s\n",
      "1100:\tlearn: 0.4615174\ttest: 0.4673325\tbest: 0.4673325 (1100)\ttotal: 10m 38s\tremaining: 8m 41s\n",
      "1200:\tlearn: 0.4596790\ttest: 0.4657998\tbest: 0.4657998 (1200)\ttotal: 11m 31s\tremaining: 7m 39s\n",
      "1300:\tlearn: 0.4580116\ttest: 0.4644697\tbest: 0.4644697 (1300)\ttotal: 12m 26s\tremaining: 6m 41s\n",
      "1400:\tlearn: 0.4563923\ttest: 0.4632544\tbest: 0.4632544 (1400)\ttotal: 13m 23s\tremaining: 5m 43s\n",
      "1500:\tlearn: 0.4550412\ttest: 0.4622878\tbest: 0.4622878 (1500)\ttotal: 14m 17s\tremaining: 4m 45s\n",
      "1600:\tlearn: 0.4537519\ttest: 0.4613418\tbest: 0.4613418 (1600)\ttotal: 15m 12s\tremaining: 3m 47s\n",
      "1700:\tlearn: 0.4524460\ttest: 0.4604336\tbest: 0.4604336 (1700)\ttotal: 16m 5s\tremaining: 2m 49s\n",
      "1800:\tlearn: 0.4512884\ttest: 0.4596182\tbest: 0.4596182 (1800)\ttotal: 16m 59s\tremaining: 1m 52s\n",
      "1900:\tlearn: 0.4501549\ttest: 0.4588275\tbest: 0.4588275 (1900)\ttotal: 17m 52s\tremaining: 55.9s\n",
      "1999:\tlearn: 0.4490997\ttest: 0.4581267\tbest: 0.4581267 (1999)\ttotal: 18m 45s\tremaining: 0us\n",
      "\n",
      "bestTest = 0.458126677\n",
      "bestIteration = 1999\n",
      "\n",
      "err:  0.45812668167905096\n",
      "0:\tlearn: 4.9364474\ttest: 4.9353218\tbest: 4.9353218 (0)\ttotal: 528ms\tremaining: 17m 36s\n",
      "100:\tlearn: 0.8491588\ttest: 0.8500406\tbest: 0.8500406 (100)\ttotal: 54s\tremaining: 16m 54s\n",
      "200:\tlearn: 0.5107646\ttest: 0.5117798\tbest: 0.5117798 (200)\ttotal: 1m 48s\tremaining: 16m 11s\n",
      "300:\tlearn: 0.4909156\ttest: 0.4921470\tbest: 0.4921470 (300)\ttotal: 2m 42s\tremaining: 15m 14s\n",
      "400:\tlearn: 0.4837582\ttest: 0.4853141\tbest: 0.4853141 (400)\ttotal: 3m 35s\tremaining: 14m 18s\n",
      "500:\tlearn: 0.4789570\ttest: 0.4808900\tbest: 0.4808900 (500)\ttotal: 4m 28s\tremaining: 13m 23s\n",
      "600:\tlearn: 0.4747087\ttest: 0.4769634\tbest: 0.4769634 (600)\ttotal: 5m 21s\tremaining: 12m 28s\n",
      "700:\tlearn: 0.4713477\ttest: 0.4740088\tbest: 0.4740088 (700)\ttotal: 6m 14s\tremaining: 11m 34s\n",
      "800:\tlearn: 0.4683125\ttest: 0.4713305\tbest: 0.4713305 (800)\ttotal: 7m 8s\tremaining: 10m 41s\n",
      "900:\tlearn: 0.4659084\ttest: 0.4693033\tbest: 0.4693033 (900)\ttotal: 8m 1s\tremaining: 9m 47s\n",
      "1000:\tlearn: 0.4636126\ttest: 0.4673989\tbest: 0.4673989 (1000)\ttotal: 8m 53s\tremaining: 8m 52s\n",
      "1100:\tlearn: 0.4616011\ttest: 0.4658117\tbest: 0.4658117 (1100)\ttotal: 9m 45s\tremaining: 7m 57s\n",
      "1200:\tlearn: 0.4597059\ttest: 0.4643180\tbest: 0.4643180 (1200)\ttotal: 10m 36s\tremaining: 7m 3s\n",
      "1300:\tlearn: 0.4581075\ttest: 0.4630756\tbest: 0.4630756 (1300)\ttotal: 11m 28s\tremaining: 6m 9s\n",
      "1400:\tlearn: 0.4565525\ttest: 0.4618807\tbest: 0.4618807 (1400)\ttotal: 12m 20s\tremaining: 5m 16s\n",
      "1500:\tlearn: 0.4551399\ttest: 0.4608417\tbest: 0.4608417 (1500)\ttotal: 13m 12s\tremaining: 4m 23s\n",
      "1600:\tlearn: 0.4538436\ttest: 0.4598956\tbest: 0.4598956 (1600)\ttotal: 14m 4s\tremaining: 3m 30s\n",
      "1700:\tlearn: 0.4525009\ttest: 0.4589344\tbest: 0.4589344 (1700)\ttotal: 14m 56s\tremaining: 2m 37s\n",
      "1800:\tlearn: 0.4513095\ttest: 0.4581582\tbest: 0.4581582 (1800)\ttotal: 15m 47s\tremaining: 1m 44s\n",
      "1900:\tlearn: 0.4502259\ttest: 0.4574606\tbest: 0.4574606 (1900)\ttotal: 16m 41s\tremaining: 52.1s\n",
      "1999:\tlearn: 0.4491108\ttest: 0.4567095\tbest: 0.4567095 (1999)\ttotal: 17m 39s\tremaining: 0us\n",
      "\n",
      "bestTest = 0.4567095416\n",
      "bestIteration = 1999\n",
      "\n",
      "err:  0.45670954671066905\n",
      "0:\tlearn: 4.9357671\ttest: 4.9380509\tbest: 4.9380509 (0)\ttotal: 538ms\tremaining: 17m 54s\n",
      "100:\tlearn: 0.8495576\ttest: 0.8497133\tbest: 0.8497133 (100)\ttotal: 55.9s\tremaining: 17m 30s\n",
      "200:\tlearn: 0.5117348\ttest: 0.5106527\tbest: 0.5106527 (200)\ttotal: 1m 55s\tremaining: 17m 16s\n",
      "300:\tlearn: 0.4917858\ttest: 0.4909751\tbest: 0.4909751 (300)\ttotal: 2m 59s\tremaining: 16m 53s\n",
      "400:\tlearn: 0.4845060\ttest: 0.4841110\tbest: 0.4841110 (400)\ttotal: 3m 59s\tremaining: 15m 53s\n",
      "500:\tlearn: 0.4791911\ttest: 0.4791524\tbest: 0.4791524 (500)\ttotal: 4m 59s\tremaining: 14m 55s\n",
      "600:\tlearn: 0.4752116\ttest: 0.4755758\tbest: 0.4755758 (600)\ttotal: 5m 59s\tremaining: 13m 56s\n",
      "700:\tlearn: 0.4718794\ttest: 0.4726232\tbest: 0.4726232 (700)\ttotal: 7m 8s\tremaining: 13m 14s\n",
      "800:\tlearn: 0.4688283\ttest: 0.4698971\tbest: 0.4698971 (800)\ttotal: 8m 10s\tremaining: 12m 13s\n",
      "900:\tlearn: 0.4661885\ttest: 0.4676031\tbest: 0.4676031 (900)\ttotal: 9m 9s\tremaining: 11m 10s\n",
      "1000:\tlearn: 0.4639996\ttest: 0.4657510\tbest: 0.4657510 (1000)\ttotal: 10m 12s\tremaining: 10m 11s\n",
      "1100:\tlearn: 0.4621353\ttest: 0.4642506\tbest: 0.4642506 (1100)\ttotal: 11m 15s\tremaining: 9m 11s\n",
      "1200:\tlearn: 0.4602266\ttest: 0.4626692\tbest: 0.4626692 (1200)\ttotal: 12m 17s\tremaining: 8m 10s\n",
      "1300:\tlearn: 0.4584637\ttest: 0.4612637\tbest: 0.4612637 (1300)\ttotal: 13m 17s\tremaining: 7m 8s\n",
      "1400:\tlearn: 0.4568920\ttest: 0.4600334\tbest: 0.4600334 (1400)\ttotal: 14m 24s\tremaining: 6m 9s\n",
      "1500:\tlearn: 0.4555415\ttest: 0.4590290\tbest: 0.4590290 (1500)\ttotal: 15m 18s\tremaining: 5m 5s\n",
      "1600:\tlearn: 0.4542367\ttest: 0.4580475\tbest: 0.4580475 (1600)\ttotal: 16m 19s\tremaining: 4m 4s\n",
      "1700:\tlearn: 0.4528718\ttest: 0.4570292\tbest: 0.4570292 (1700)\ttotal: 17m 25s\tremaining: 3m 3s\n",
      "1800:\tlearn: 0.4516434\ttest: 0.4562105\tbest: 0.4562105 (1800)\ttotal: 18m 24s\tremaining: 2m 2s\n",
      "1900:\tlearn: 0.4504720\ttest: 0.4554057\tbest: 0.4554057 (1900)\ttotal: 19m 22s\tremaining: 1m\n",
      "1999:\tlearn: 0.4493626\ttest: 0.4546523\tbest: 0.4546523 (1999)\ttotal: 20m 24s\tremaining: 0us\n",
      "\n",
      "bestTest = 0.4546522778\n",
      "bestIteration = 1999\n",
      "\n",
      "err:  0.45465228220079906\n",
      "0:\tlearn: 4.9344726\ttest: 4.9398849\tbest: 4.9398849 (0)\ttotal: 609ms\tremaining: 20m 18s\n",
      "100:\tlearn: 0.8486402\ttest: 0.8492281\tbest: 0.8492281 (100)\ttotal: 1m 3s\tremaining: 19m 58s\n",
      "200:\tlearn: 0.5110081\ttest: 0.5102752\tbest: 0.5102752 (200)\ttotal: 2m 8s\tremaining: 19m 8s\n",
      "300:\tlearn: 0.4912333\ttest: 0.4904444\tbest: 0.4904444 (300)\ttotal: 3m 14s\tremaining: 18m 15s\n",
      "400:\tlearn: 0.4840765\ttest: 0.4835635\tbest: 0.4835635 (400)\ttotal: 4m 19s\tremaining: 17m 16s\n",
      "500:\tlearn: 0.4788731\ttest: 0.4786553\tbest: 0.4786553 (500)\ttotal: 5m 15s\tremaining: 15m 44s\n",
      "600:\tlearn: 0.4749851\ttest: 0.4751247\tbest: 0.4751247 (600)\ttotal: 6m 11s\tremaining: 14m 23s\n",
      "700:\tlearn: 0.4715343\ttest: 0.4720649\tbest: 0.4720649 (700)\ttotal: 7m 5s\tremaining: 13m 9s\n",
      "800:\tlearn: 0.4685749\ttest: 0.4695260\tbest: 0.4695260 (800)\ttotal: 8m\tremaining: 11m 59s\n",
      "900:\tlearn: 0.4661153\ttest: 0.4674410\tbest: 0.4674410 (900)\ttotal: 8m 55s\tremaining: 10m 52s\n",
      "1000:\tlearn: 0.4639328\ttest: 0.4656490\tbest: 0.4656490 (1000)\ttotal: 9m 48s\tremaining: 9m 47s\n",
      "1100:\tlearn: 0.4618056\ttest: 0.4639041\tbest: 0.4639041 (1100)\ttotal: 10m 40s\tremaining: 8m 42s\n",
      "1200:\tlearn: 0.4600076\ttest: 0.4624850\tbest: 0.4624850 (1200)\ttotal: 11m 32s\tremaining: 7m 40s\n",
      "1300:\tlearn: 0.4583340\ttest: 0.4612046\tbest: 0.4612046 (1300)\ttotal: 12m 24s\tremaining: 6m 39s\n",
      "1400:\tlearn: 0.4567979\ttest: 0.4600744\tbest: 0.4600744 (1400)\ttotal: 13m 16s\tremaining: 5m 40s\n",
      "1500:\tlearn: 0.4552583\ttest: 0.4589307\tbest: 0.4589307 (1500)\ttotal: 14m 7s\tremaining: 4m 41s\n",
      "1600:\tlearn: 0.4539101\ttest: 0.4579208\tbest: 0.4579208 (1600)\ttotal: 14m 59s\tremaining: 3m 44s\n",
      "1700:\tlearn: 0.4526709\ttest: 0.4570990\tbest: 0.4570990 (1700)\ttotal: 15m 51s\tremaining: 2m 47s\n",
      "1800:\tlearn: 0.4515265\ttest: 0.4563619\tbest: 0.4563619 (1800)\ttotal: 16m 43s\tremaining: 1m 50s\n",
      "1900:\tlearn: 0.4504429\ttest: 0.4556834\tbest: 0.4556834 (1900)\ttotal: 17m 35s\tremaining: 55s\n",
      "1999:\tlearn: 0.4493950\ttest: 0.4549640\tbest: 0.4549640 (1999)\ttotal: 18m 26s\tremaining: 0us\n",
      "\n",
      "bestTest = 0.4549639958\n",
      "bestIteration = 1999\n",
      "\n",
      "err:  0.4549640004934684\n",
      "0:\tlearn: 4.9360633\ttest: 4.9334636\tbest: 4.9334636 (0)\ttotal: 515ms\tremaining: 17m 10s\n"
     ]
    },
    {
     "name": "stdout",
     "output_type": "stream",
     "text": [
      "100:\tlearn: 0.8484957\ttest: 0.8464812\tbest: 0.8464812 (100)\ttotal: 51.7s\tremaining: 16m 11s\n",
      "200:\tlearn: 0.5101150\ttest: 0.5113863\tbest: 0.5113863 (200)\ttotal: 1m 52s\tremaining: 16m 44s\n",
      "300:\tlearn: 0.4905796\ttest: 0.4928871\tbest: 0.4928871 (300)\ttotal: 2m 51s\tremaining: 16m 6s\n",
      "400:\tlearn: 0.4833850\ttest: 0.4860480\tbest: 0.4860480 (400)\ttotal: 3m 47s\tremaining: 15m 8s\n",
      "500:\tlearn: 0.4782485\ttest: 0.4812349\tbest: 0.4812349 (500)\ttotal: 4m 52s\tremaining: 14m 34s\n",
      "600:\tlearn: 0.4743202\ttest: 0.4776365\tbest: 0.4776365 (600)\ttotal: 5m 52s\tremaining: 13m 40s\n",
      "700:\tlearn: 0.4709481\ttest: 0.4745574\tbest: 0.4745574 (700)\ttotal: 6m 49s\tremaining: 12m 39s\n",
      "800:\tlearn: 0.4679149\ttest: 0.4718213\tbest: 0.4718213 (800)\ttotal: 7m 46s\tremaining: 11m 38s\n",
      "900:\tlearn: 0.4652522\ttest: 0.4695117\tbest: 0.4695117 (900)\ttotal: 8m 44s\tremaining: 10m 39s\n",
      "1000:\tlearn: 0.4630629\ttest: 0.4676562\tbest: 0.4676562 (1000)\ttotal: 9m 41s\tremaining: 9m 40s\n",
      "1100:\tlearn: 0.4611606\ttest: 0.4660741\tbest: 0.4660741 (1100)\ttotal: 10m 39s\tremaining: 8m 42s\n",
      "1200:\tlearn: 0.4593562\ttest: 0.4646023\tbest: 0.4646023 (1200)\ttotal: 11m 35s\tremaining: 7m 42s\n",
      "1300:\tlearn: 0.4578816\ttest: 0.4634896\tbest: 0.4634896 (1300)\ttotal: 12m 30s\tremaining: 6m 43s\n",
      "1400:\tlearn: 0.4563061\ttest: 0.4622867\tbest: 0.4622867 (1400)\ttotal: 13m 29s\tremaining: 5m 45s\n",
      "1500:\tlearn: 0.4548974\ttest: 0.4612030\tbest: 0.4612030 (1500)\ttotal: 14m 33s\tremaining: 4m 50s\n",
      "1600:\tlearn: 0.4535633\ttest: 0.4602077\tbest: 0.4602077 (1600)\ttotal: 15m 36s\tremaining: 3m 53s\n",
      "1700:\tlearn: 0.4522726\ttest: 0.4592603\tbest: 0.4592603 (1700)\ttotal: 16m 34s\tremaining: 2m 54s\n",
      "1800:\tlearn: 0.4512021\ttest: 0.4585541\tbest: 0.4585541 (1800)\ttotal: 17m 30s\tremaining: 1m 56s\n",
      "1900:\tlearn: 0.4500973\ttest: 0.4577923\tbest: 0.4577923 (1900)\ttotal: 18m 26s\tremaining: 57.6s\n",
      "1999:\tlearn: 0.4490287\ttest: 0.4570755\tbest: 0.4570755 (1999)\ttotal: 19m 21s\tremaining: 0us\n",
      "\n",
      "bestTest = 0.4570755246\n",
      "bestIteration = 1999\n",
      "\n",
      "err:  0.45707552956537284\n"
     ]
    }
   ],
   "source": [
    "errcb=[]\n",
    "y_pred_test=[]\n",
    "\n",
    "fold = KFold(n_splits=5,shuffle=True,random_state=2019)\n",
    "\n",
    "for train_index, test_index in fold.split(train_data[features],train_data['num_orders']):\n",
    "    X_train, X_valid =train_data[features].iloc[train_index], train_data[features].iloc[test_index]\n",
    "    y_train, y_valid = train_data['num_orders'][train_index],train_data['num_orders'][test_index]\n",
    "    model.fit(X_train,y_train,\n",
    "              cat_features = categorical_features_indices,\n",
    "              eval_set=(X_valid,y_valid),\n",
    "              early_stopping_rounds=300,\n",
    "              verbose=100)\n",
    "    preds = model.predict(X_valid)\n",
    "    print(\"err: \",np.sqrt(mean_squared_error(y_valid,preds)))\n",
    "    errcb.append(np.sqrt(mean_squared_error(y_valid,preds)))\n",
    "    p = model.predict(test_data[features])\n",
    "    y_pred_test.append(p)"
   ]
  },
  {
   "cell_type": "code",
   "execution_count": 42,
   "metadata": {
    "colab": {},
    "colab_type": "code",
    "id": "Rrwagd3-7kWj"
   },
   "outputs": [],
   "source": [
    "pred = model.predict(test_data[features])"
   ]
  },
  {
   "cell_type": "code",
   "execution_count": 44,
   "metadata": {
    "colab": {},
    "colab_type": "code",
    "id": "ktaMJbtjG-5U"
   },
   "outputs": [],
   "source": [
    "pred = (np.exp(pred) - 1)"
   ]
  },
  {
   "cell_type": "code",
   "execution_count": 45,
   "metadata": {},
   "outputs": [
    {
     "data": {
      "text/plain": [
       "array([1011.33290619, 1025.84426349, 1005.10471542, ...,   17.84922649,\n",
       "         18.61517461,   19.97548977])"
      ]
     },
     "execution_count": 45,
     "metadata": {},
     "output_type": "execute_result"
    }
   ],
   "source": [
    "pred"
   ]
  },
  {
   "cell_type": "code",
   "execution_count": 46,
   "metadata": {
    "colab": {},
    "colab_type": "code",
    "id": "EBGphk3F7kWm"
   },
   "outputs": [
    {
     "data": {
      "text/html": [
       "<div>\n",
       "<style scoped>\n",
       "    .dataframe tbody tr th:only-of-type {\n",
       "        vertical-align: middle;\n",
       "    }\n",
       "\n",
       "    .dataframe tbody tr th {\n",
       "        vertical-align: top;\n",
       "    }\n",
       "\n",
       "    .dataframe thead th {\n",
       "        text-align: right;\n",
       "    }\n",
       "</style>\n",
       "<table border=\"1\" class=\"dataframe\">\n",
       "  <thead>\n",
       "    <tr style=\"text-align: right;\">\n",
       "      <th></th>\n",
       "      <th>id</th>\n",
       "      <th>num_orders</th>\n",
       "    </tr>\n",
       "  </thead>\n",
       "  <tbody>\n",
       "    <tr>\n",
       "      <th>0</th>\n",
       "      <td>1028232</td>\n",
       "      <td>1011.332906</td>\n",
       "    </tr>\n",
       "    <tr>\n",
       "      <th>1</th>\n",
       "      <td>1262649</td>\n",
       "      <td>1025.844263</td>\n",
       "    </tr>\n",
       "    <tr>\n",
       "      <th>2</th>\n",
       "      <td>1453211</td>\n",
       "      <td>1005.104715</td>\n",
       "    </tr>\n",
       "    <tr>\n",
       "      <th>3</th>\n",
       "      <td>1262599</td>\n",
       "      <td>785.838642</td>\n",
       "    </tr>\n",
       "    <tr>\n",
       "      <th>4</th>\n",
       "      <td>1495848</td>\n",
       "      <td>988.560707</td>\n",
       "    </tr>\n",
       "  </tbody>\n",
       "</table>\n",
       "</div>"
      ],
      "text/plain": [
       "        id   num_orders\n",
       "0  1028232  1011.332906\n",
       "1  1262649  1025.844263\n",
       "2  1453211  1005.104715\n",
       "3  1262599   785.838642\n",
       "4  1495848   988.560707"
      ]
     },
     "execution_count": 46,
     "metadata": {},
     "output_type": "execute_result"
    }
   ],
   "source": [
    "submission = pd.DataFrame({'id':test['id'],'num_orders':pred})\n",
    "submission = submission[['id','num_orders']]\n",
    "submission.head()"
   ]
  },
  {
   "cell_type": "code",
   "execution_count": 47,
   "metadata": {},
   "outputs": [],
   "source": [
    "submission.to_csv('catboost_1.csv', index=False)"
   ]
  },
  {
   "cell_type": "code",
   "execution_count": 52,
   "metadata": {
    "colab": {},
    "colab_type": "code",
    "id": "lXJnd7PmIV6D"
   },
   "outputs": [],
   "source": [
    "feature_score = pd.DataFrame(list(zip(train_data[features].dtypes.index, model.get_feature_importance(Pool(train_data[features], label=train_data['num_orders'], cat_features=categorical_features_indices)))),\n",
    "                columns=['Feature','Score'])\n",
    "\n",
    "feature_score = feature_score.sort_values(by='Score', ascending=False, inplace=False, kind='quicksort', na_position='last')"
   ]
  },
  {
   "cell_type": "code",
   "execution_count": 59,
   "metadata": {},
   "outputs": [
    {
     "data": {
      "image/png": "[encoded data removed]",
      "text/plain": [
       "<Figure size 1728x504 with 1 Axes>"
      ]
     },
     "metadata": {
      "needs_background": "light"
     },
     "output_type": "display_data"
    },
    {
     "data": {
      "text/plain": [
       "<Figure size 1728x504 with 0 Axes>"
      ]
     },
     "metadata": {},
     "output_type": "display_data"
    }
   ],
   "source": [
    "plt.rcParams[\"figure.figsize\"] = (24,7)\n",
    "ax = feature_score.plot('Feature', 'Score', kind='bar', color='c')\n",
    "ax.set_title(\"Catboost Feature Importance Ranking\", fontsize = 14)\n",
    "ax.set_xlabel('')\n",
    "\n",
    "rects = ax.patches\n",
    "\n",
    "labels = feature_score['Score'].round(2)\n",
    "\n",
    "for rect, label in zip(rects, labels):\n",
    "    height = rect.get_height()\n",
    "    ax.text(rect.get_x() + rect.get_width()/2, height + 0.35, label, ha='center', va='bottom')\n",
    "\n",
    "plt.show()\n",
    "plt.savefig(\"Importance of features\")"
   ]
  },
  {
   "cell_type": "code",
   "execution_count": null,
   "metadata": {},
   "outputs": [],
   "source": []
  },
  {
   "cell_type": "code",
   "execution_count": 48,
   "metadata": {},
   "outputs": [],
   "source": [
    "import pickle\n",
    "pickle.dump(model,open('model.pkl', 'wb'))"
   ]
  },
  {
   "cell_type": "code",
   "execution_count": 57,
   "metadata": {},
   "outputs": [
    {
     "data": {
      "image/png": "[encoded data removed]",
      "text/plain": [
       "<Figure size 1728x504 with 1 Axes>"
      ]
     },
     "metadata": {
      "needs_background": "light"
     },
     "output_type": "display_data"
    },
    {
     "data": {
      "text/plain": [
       "<Figure size 1728x504 with 0 Axes>"
      ]
     },
     "metadata": {},
     "output_type": "display_data"
    }
   ],
   "source": [
    "sns.lineplot(test['week'],submission['num_orders'])\n",
    "plt.show()\n",
    "plt.savefig(\"Number of order Vs Next 10 weeks\")"
   ]
  }
 ],
 "metadata": {
  "colab": {
   "collapsed_sections": [],
   "name": "Analysis.ipynb",
   "provenance": [],
   "version": "0.3.2"
  },
  "kernelspec": {
   "display_name": "Python 3",
   "language": "python",
   "name": "python3"
  }
 },
 "nbformat": 4,
 "nbformat_minor": 2
}
