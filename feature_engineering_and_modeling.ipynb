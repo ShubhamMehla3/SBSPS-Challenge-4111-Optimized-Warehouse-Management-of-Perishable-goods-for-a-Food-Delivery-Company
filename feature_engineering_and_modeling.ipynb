{
 "cells": [
  {
   "cell_type": "code",
   "execution_count": 1,
   "metadata": {
    "colab": {},
    "colab_type": "code",
    "id": "E1BgK4Nu7kF7"
   },
   "outputs": [],
   "source": [
    "import pandas as pd\n",
    "import numpy as np\n",
    "import seaborn as sns\n",
    "from matplotlib import pyplot as plt\n",
    "import pandas_profiling as pp\n",
    "from sklearn.preprocessing import LabelEncoder\n",
    "from sklearn.model_selection import train_test_split\n",
    "from sklearn.model_selection import KFold,StratifiedKFold\n",
    "from sklearn.metrics import mean_squared_error\n",
    "from catboost import CatBoostRegressor\n",
    "from catboost import Pool"
   ]
  },
  {
   "cell_type": "code",
   "execution_count": 2,
   "metadata": {
    "colab": {},
    "colab_type": "code",
    "id": "8S6Q_FwB7kGg"
   },
   "outputs": [],
   "source": [
    "train = pd.read_csv('train.csv')\n",
    "test = pd.read_csv('test.csv')\n",
    "fulfilment_center = pd.read_csv('fulfilment_center_info.csv')\n",
    "meal_info = pd.read_csv('meal_info.csv')"
   ]
  },
  {
   "cell_type": "code",
   "execution_count": 3,
   "metadata": {
    "colab": {},
    "colab_type": "code",
    "id": "GAJESuRz7kGp",
    "outputId": "ed61d275-72b1-46da-dde2-13e80a764902",
    "scrolled": true
   },
   "outputs": [
    {
     "name": "stdout",
     "output_type": "stream",
     "text": [
      "<class 'pandas.core.frame.DataFrame'>\n",
      "RangeIndex: 456548 entries, 0 to 456547\n",
      "Data columns (total 9 columns):\n",
      " #   Column                 Non-Null Count   Dtype  \n",
      "---  ------                 --------------   -----  \n",
      " 0   id                     456548 non-null  int64  \n",
      " 1   week                   456548 non-null  int64  \n",
      " 2   center_id              456548 non-null  int64  \n",
      " 3   meal_id                456548 non-null  int64  \n",
      " 4   checkout_price         456548 non-null  float64\n",
      " 5   base_price             456548 non-null  float64\n",
      " 6   emailer_for_promotion  456548 non-null  int64  \n",
      " 7   homepage_featured      456548 non-null  int64  \n",
      " 8   num_orders             456548 non-null  int64  \n",
      "dtypes: float64(2), int64(7)\n",
      "memory usage: 31.3 MB\n"
     ]
    }
   ],
   "source": [
    "train.info()"
   ]
  },
  {
   "cell_type": "code",
   "execution_count": 4,
   "metadata": {
    "colab": {},
    "colab_type": "code",
    "id": "AGSSD3rj7kG8",
    "outputId": "617086b5-3a75-453b-b971-16407bf708c1"
   },
   "outputs": [
    {
     "name": "stdout",
     "output_type": "stream",
     "text": [
      "<class 'pandas.core.frame.DataFrame'>\n",
      "RangeIndex: 32573 entries, 0 to 32572\n",
      "Data columns (total 8 columns):\n",
      " #   Column                 Non-Null Count  Dtype  \n",
      "---  ------                 --------------  -----  \n",
      " 0   id                     32573 non-null  int64  \n",
      " 1   week                   32573 non-null  int64  \n",
      " 2   center_id              32573 non-null  int64  \n",
      " 3   meal_id                32573 non-null  int64  \n",
      " 4   checkout_price         32573 non-null  float64\n",
      " 5   base_price             32573 non-null  float64\n",
      " 6   emailer_for_promotion  32573 non-null  int64  \n",
      " 7   homepage_featured      32573 non-null  int64  \n",
      "dtypes: float64(2), int64(6)\n",
      "memory usage: 2.0 MB\n"
     ]
    }
   ],
   "source": [
    "test.info()"
   ]
  },
  {
   "cell_type": "code",
   "execution_count": 5,
   "metadata": {
    "colab": {},
    "colab_type": "code",
    "id": "z93vZnlc7kHJ",
    "outputId": "24b8a130-d1d8-4bae-904f-761696f77b69"
   },
   "outputs": [
    {
     "data": {
      "text/html": [
       "<div>\n",
       "<style scoped>\n",
       "    .dataframe tbody tr th:only-of-type {\n",
       "        vertical-align: middle;\n",
       "    }\n",
       "\n",
       "    .dataframe tbody tr th {\n",
       "        vertical-align: top;\n",
       "    }\n",
       "\n",
       "    .dataframe thead th {\n",
       "        text-align: right;\n",
       "    }\n",
       "</style>\n",
       "<table border=\"1\" class=\"dataframe\">\n",
       "  <thead>\n",
       "    <tr style=\"text-align: right;\">\n",
       "      <th></th>\n",
       "      <th>id</th>\n",
       "      <th>week</th>\n",
       "      <th>center_id</th>\n",
       "      <th>meal_id</th>\n",
       "      <th>checkout_price</th>\n",
       "      <th>base_price</th>\n",
       "      <th>emailer_for_promotion</th>\n",
       "      <th>homepage_featured</th>\n",
       "    </tr>\n",
       "  </thead>\n",
       "  <tbody>\n",
       "    <tr>\n",
       "      <th>0</th>\n",
       "      <td>1028232</td>\n",
       "      <td>146</td>\n",
       "      <td>55</td>\n",
       "      <td>1885</td>\n",
       "      <td>158.11</td>\n",
       "      <td>159.11</td>\n",
       "      <td>0</td>\n",
       "      <td>0</td>\n",
       "    </tr>\n",
       "    <tr>\n",
       "      <th>1</th>\n",
       "      <td>1127204</td>\n",
       "      <td>146</td>\n",
       "      <td>55</td>\n",
       "      <td>1993</td>\n",
       "      <td>160.11</td>\n",
       "      <td>159.11</td>\n",
       "      <td>0</td>\n",
       "      <td>0</td>\n",
       "    </tr>\n",
       "    <tr>\n",
       "      <th>2</th>\n",
       "      <td>1212707</td>\n",
       "      <td>146</td>\n",
       "      <td>55</td>\n",
       "      <td>2539</td>\n",
       "      <td>157.14</td>\n",
       "      <td>159.14</td>\n",
       "      <td>0</td>\n",
       "      <td>0</td>\n",
       "    </tr>\n",
       "    <tr>\n",
       "      <th>3</th>\n",
       "      <td>1082698</td>\n",
       "      <td>146</td>\n",
       "      <td>55</td>\n",
       "      <td>2631</td>\n",
       "      <td>162.02</td>\n",
       "      <td>162.02</td>\n",
       "      <td>0</td>\n",
       "      <td>0</td>\n",
       "    </tr>\n",
       "    <tr>\n",
       "      <th>4</th>\n",
       "      <td>1400926</td>\n",
       "      <td>146</td>\n",
       "      <td>55</td>\n",
       "      <td>1248</td>\n",
       "      <td>163.93</td>\n",
       "      <td>163.93</td>\n",
       "      <td>0</td>\n",
       "      <td>0</td>\n",
       "    </tr>\n",
       "  </tbody>\n",
       "</table>\n",
       "</div>"
      ],
      "text/plain": [
       "        id  week  center_id  meal_id  checkout_price  base_price  \\\n",
       "0  1028232   146         55     1885          158.11      159.11   \n",
       "1  1127204   146         55     1993          160.11      159.11   \n",
       "2  1212707   146         55     2539          157.14      159.14   \n",
       "3  1082698   146         55     2631          162.02      162.02   \n",
       "4  1400926   146         55     1248          163.93      163.93   \n",
       "\n",
       "   emailer_for_promotion  homepage_featured  \n",
       "0                      0                  0  \n",
       "1                      0                  0  \n",
       "2                      0                  0  \n",
       "3                      0                  0  \n",
       "4                      0                  0  "
      ]
     },
     "execution_count": 5,
     "metadata": {},
     "output_type": "execute_result"
    }
   ],
   "source": [
    "test.head()"
   ]
  },
  {
   "cell_type": "code",
   "execution_count": 6,
   "metadata": {
    "colab": {},
    "colab_type": "code",
    "id": "Tn8loJc47kHV",
    "outputId": "ce565625-4173-49b2-ed69-1889e7d88c99"
   },
   "outputs": [
    {
     "data": {
      "text/html": [
       "<div>\n",
       "<style scoped>\n",
       "    .dataframe tbody tr th:only-of-type {\n",
       "        vertical-align: middle;\n",
       "    }\n",
       "\n",
       "    .dataframe tbody tr th {\n",
       "        vertical-align: top;\n",
       "    }\n",
       "\n",
       "    .dataframe thead th {\n",
       "        text-align: right;\n",
       "    }\n",
       "</style>\n",
       "<table border=\"1\" class=\"dataframe\">\n",
       "  <thead>\n",
       "    <tr style=\"text-align: right;\">\n",
       "      <th></th>\n",
       "      <th>center_id</th>\n",
       "      <th>city_code</th>\n",
       "      <th>region_code</th>\n",
       "      <th>center_type</th>\n",
       "      <th>op_area</th>\n",
       "    </tr>\n",
       "  </thead>\n",
       "  <tbody>\n",
       "    <tr>\n",
       "      <th>0</th>\n",
       "      <td>11</td>\n",
       "      <td>679</td>\n",
       "      <td>56</td>\n",
       "      <td>TYPE_A</td>\n",
       "      <td>3.7</td>\n",
       "    </tr>\n",
       "    <tr>\n",
       "      <th>1</th>\n",
       "      <td>13</td>\n",
       "      <td>590</td>\n",
       "      <td>56</td>\n",
       "      <td>TYPE_B</td>\n",
       "      <td>6.7</td>\n",
       "    </tr>\n",
       "    <tr>\n",
       "      <th>2</th>\n",
       "      <td>124</td>\n",
       "      <td>590</td>\n",
       "      <td>56</td>\n",
       "      <td>TYPE_C</td>\n",
       "      <td>4.0</td>\n",
       "    </tr>\n",
       "    <tr>\n",
       "      <th>3</th>\n",
       "      <td>66</td>\n",
       "      <td>648</td>\n",
       "      <td>34</td>\n",
       "      <td>TYPE_A</td>\n",
       "      <td>4.1</td>\n",
       "    </tr>\n",
       "    <tr>\n",
       "      <th>4</th>\n",
       "      <td>94</td>\n",
       "      <td>632</td>\n",
       "      <td>34</td>\n",
       "      <td>TYPE_C</td>\n",
       "      <td>3.6</td>\n",
       "    </tr>\n",
       "  </tbody>\n",
       "</table>\n",
       "</div>"
      ],
      "text/plain": [
       "   center_id  city_code  region_code center_type  op_area\n",
       "0         11        679           56      TYPE_A      3.7\n",
       "1         13        590           56      TYPE_B      6.7\n",
       "2        124        590           56      TYPE_C      4.0\n",
       "3         66        648           34      TYPE_A      4.1\n",
       "4         94        632           34      TYPE_C      3.6"
      ]
     },
     "execution_count": 6,
     "metadata": {},
     "output_type": "execute_result"
    }
   ],
   "source": [
    "fulfilment_center.head()"
   ]
  },
  {
   "cell_type": "code",
   "execution_count": 7,
   "metadata": {
    "colab": {},
    "colab_type": "code",
    "id": "h8urChaW7kHj",
    "outputId": "8d3f3771-c9fb-43e4-ce31-d233db83ccb4"
   },
   "outputs": [
    {
     "data": {
      "text/html": [
       "<div>\n",
       "<style scoped>\n",
       "    .dataframe tbody tr th:only-of-type {\n",
       "        vertical-align: middle;\n",
       "    }\n",
       "\n",
       "    .dataframe tbody tr th {\n",
       "        vertical-align: top;\n",
       "    }\n",
       "\n",
       "    .dataframe thead th {\n",
       "        text-align: right;\n",
       "    }\n",
       "</style>\n",
       "<table border=\"1\" class=\"dataframe\">\n",
       "  <thead>\n",
       "    <tr style=\"text-align: right;\">\n",
       "      <th></th>\n",
       "      <th>meal_id</th>\n",
       "      <th>category</th>\n",
       "      <th>cuisine</th>\n",
       "    </tr>\n",
       "  </thead>\n",
       "  <tbody>\n",
       "    <tr>\n",
       "      <th>0</th>\n",
       "      <td>1885</td>\n",
       "      <td>Beverages</td>\n",
       "      <td>Thai</td>\n",
       "    </tr>\n",
       "    <tr>\n",
       "      <th>1</th>\n",
       "      <td>1993</td>\n",
       "      <td>Beverages</td>\n",
       "      <td>Thai</td>\n",
       "    </tr>\n",
       "    <tr>\n",
       "      <th>2</th>\n",
       "      <td>2539</td>\n",
       "      <td>Beverages</td>\n",
       "      <td>Thai</td>\n",
       "    </tr>\n",
       "    <tr>\n",
       "      <th>3</th>\n",
       "      <td>1248</td>\n",
       "      <td>Beverages</td>\n",
       "      <td>Indian</td>\n",
       "    </tr>\n",
       "    <tr>\n",
       "      <th>4</th>\n",
       "      <td>2631</td>\n",
       "      <td>Beverages</td>\n",
       "      <td>Indian</td>\n",
       "    </tr>\n",
       "  </tbody>\n",
       "</table>\n",
       "</div>"
      ],
      "text/plain": [
       "   meal_id   category cuisine\n",
       "0     1885  Beverages    Thai\n",
       "1     1993  Beverages    Thai\n",
       "2     2539  Beverages    Thai\n",
       "3     1248  Beverages  Indian\n",
       "4     2631  Beverages  Indian"
      ]
     },
     "execution_count": 7,
     "metadata": {},
     "output_type": "execute_result"
    }
   ],
   "source": [
    "meal_info.head()"
   ]
  },
  {
   "cell_type": "code",
   "execution_count": 8,
   "metadata": {
    "colab": {},
    "colab_type": "code",
    "id": "S107YGrR7kHw",
    "outputId": "f19c5d9b-7492-4d7f-c440-5f7a21d514e9"
   },
   "outputs": [
    {
     "name": "stdout",
     "output_type": "stream",
     "text": [
      "<class 'pandas.core.frame.DataFrame'>\n",
      "RangeIndex: 51 entries, 0 to 50\n",
      "Data columns (total 3 columns):\n",
      " #   Column    Non-Null Count  Dtype \n",
      "---  ------    --------------  ----- \n",
      " 0   meal_id   51 non-null     int64 \n",
      " 1   category  51 non-null     object\n",
      " 2   cuisine   51 non-null     object\n",
      "dtypes: int64(1), object(2)\n",
      "memory usage: 1.3+ KB\n"
     ]
    }
   ],
   "source": [
    "meal_info.info()"
   ]
  },
  {
   "cell_type": "code",
   "execution_count": 69,
   "metadata": {
    "colab": {},
    "colab_type": "code",
    "id": "v5vbDm0j7kIA",
    "outputId": "3d0748c9-8add-44fa-b213-bd329682d4e6"
   },
   "outputs": [],
   "source": [
    "train = pd.merge(train,fulfilment_center, on='center_id')\n",
    "test = pd.merge(test,fulfilment_center, on='center_id')\n",
    "\n",
    "train = pd.merge(train,meal_info, on='meal_id')\n",
    "test = pd.merge(test,meal_info, on='meal_id')"
   ]
  },
  {
   "cell_type": "code",
   "execution_count": 70,
   "metadata": {
    "colab": {},
    "colab_type": "code",
    "id": "eYHJheYS7kIL",
    "outputId": "a2caa58f-fe55-44f7-e8b2-2dd0fed9786d"
   },
   "outputs": [
    {
     "data": {
      "text/html": [
       "<div>\n",
       "<style scoped>\n",
       "    .dataframe tbody tr th:only-of-type {\n",
       "        vertical-align: middle;\n",
       "    }\n",
       "\n",
       "    .dataframe tbody tr th {\n",
       "        vertical-align: top;\n",
       "    }\n",
       "\n",
       "    .dataframe thead th {\n",
       "        text-align: right;\n",
       "    }\n",
       "</style>\n",
       "<table border=\"1\" class=\"dataframe\">\n",
       "  <thead>\n",
       "    <tr style=\"text-align: right;\">\n",
       "      <th></th>\n",
       "      <th>id</th>\n",
       "      <th>week</th>\n",
       "      <th>center_id</th>\n",
       "      <th>meal_id</th>\n",
       "      <th>checkout_price</th>\n",
       "      <th>base_price</th>\n",
       "      <th>emailer_for_promotion</th>\n",
       "      <th>homepage_featured</th>\n",
       "      <th>num_orders</th>\n",
       "      <th>city_code_x</th>\n",
       "      <th>...</th>\n",
       "      <th>op_area_x</th>\n",
       "      <th>category_x</th>\n",
       "      <th>cuisine_x</th>\n",
       "      <th>train_or_test</th>\n",
       "      <th>city_code_y</th>\n",
       "      <th>region_code_y</th>\n",
       "      <th>center_type_y</th>\n",
       "      <th>op_area_y</th>\n",
       "      <th>category_y</th>\n",
       "      <th>cuisine_y</th>\n",
       "    </tr>\n",
       "  </thead>\n",
       "  <tbody>\n",
       "    <tr>\n",
       "      <th>0</th>\n",
       "      <td>1379560</td>\n",
       "      <td>1</td>\n",
       "      <td>55</td>\n",
       "      <td>1885</td>\n",
       "      <td>136.83</td>\n",
       "      <td>152.29</td>\n",
       "      <td>0</td>\n",
       "      <td>0</td>\n",
       "      <td>5.181784</td>\n",
       "      <td>647</td>\n",
       "      <td>...</td>\n",
       "      <td>2.0</td>\n",
       "      <td>Beverages</td>\n",
       "      <td>Thai</td>\n",
       "      <td>train</td>\n",
       "      <td>647</td>\n",
       "      <td>56</td>\n",
       "      <td>TYPE_C</td>\n",
       "      <td>2.0</td>\n",
       "      <td>Beverages</td>\n",
       "      <td>Thai</td>\n",
       "    </tr>\n",
       "    <tr>\n",
       "      <th>1</th>\n",
       "      <td>1018704</td>\n",
       "      <td>2</td>\n",
       "      <td>55</td>\n",
       "      <td>1885</td>\n",
       "      <td>135.83</td>\n",
       "      <td>152.29</td>\n",
       "      <td>0</td>\n",
       "      <td>0</td>\n",
       "      <td>5.780744</td>\n",
       "      <td>647</td>\n",
       "      <td>...</td>\n",
       "      <td>2.0</td>\n",
       "      <td>Beverages</td>\n",
       "      <td>Thai</td>\n",
       "      <td>train</td>\n",
       "      <td>647</td>\n",
       "      <td>56</td>\n",
       "      <td>TYPE_C</td>\n",
       "      <td>2.0</td>\n",
       "      <td>Beverages</td>\n",
       "      <td>Thai</td>\n",
       "    </tr>\n",
       "    <tr>\n",
       "      <th>2</th>\n",
       "      <td>1196273</td>\n",
       "      <td>3</td>\n",
       "      <td>55</td>\n",
       "      <td>1885</td>\n",
       "      <td>132.92</td>\n",
       "      <td>133.92</td>\n",
       "      <td>0</td>\n",
       "      <td>0</td>\n",
       "      <td>4.574711</td>\n",
       "      <td>647</td>\n",
       "      <td>...</td>\n",
       "      <td>2.0</td>\n",
       "      <td>Beverages</td>\n",
       "      <td>Thai</td>\n",
       "      <td>train</td>\n",
       "      <td>647</td>\n",
       "      <td>56</td>\n",
       "      <td>TYPE_C</td>\n",
       "      <td>2.0</td>\n",
       "      <td>Beverages</td>\n",
       "      <td>Thai</td>\n",
       "    </tr>\n",
       "    <tr>\n",
       "      <th>3</th>\n",
       "      <td>1116527</td>\n",
       "      <td>4</td>\n",
       "      <td>55</td>\n",
       "      <td>1885</td>\n",
       "      <td>135.86</td>\n",
       "      <td>134.86</td>\n",
       "      <td>0</td>\n",
       "      <td>0</td>\n",
       "      <td>5.099866</td>\n",
       "      <td>647</td>\n",
       "      <td>...</td>\n",
       "      <td>2.0</td>\n",
       "      <td>Beverages</td>\n",
       "      <td>Thai</td>\n",
       "      <td>train</td>\n",
       "      <td>647</td>\n",
       "      <td>56</td>\n",
       "      <td>TYPE_C</td>\n",
       "      <td>2.0</td>\n",
       "      <td>Beverages</td>\n",
       "      <td>Thai</td>\n",
       "    </tr>\n",
       "    <tr>\n",
       "      <th>4</th>\n",
       "      <td>1343872</td>\n",
       "      <td>5</td>\n",
       "      <td>55</td>\n",
       "      <td>1885</td>\n",
       "      <td>146.50</td>\n",
       "      <td>147.50</td>\n",
       "      <td>0</td>\n",
       "      <td>0</td>\n",
       "      <td>5.375278</td>\n",
       "      <td>647</td>\n",
       "      <td>...</td>\n",
       "      <td>2.0</td>\n",
       "      <td>Beverages</td>\n",
       "      <td>Thai</td>\n",
       "      <td>train</td>\n",
       "      <td>647</td>\n",
       "      <td>56</td>\n",
       "      <td>TYPE_C</td>\n",
       "      <td>2.0</td>\n",
       "      <td>Beverages</td>\n",
       "      <td>Thai</td>\n",
       "    </tr>\n",
       "  </tbody>\n",
       "</table>\n",
       "<p>5 rows × 22 columns</p>\n",
       "</div>"
      ],
      "text/plain": [
       "        id  week  center_id  meal_id  checkout_price  base_price  \\\n",
       "0  1379560     1         55     1885          136.83      152.29   \n",
       "1  1018704     2         55     1885          135.83      152.29   \n",
       "2  1196273     3         55     1885          132.92      133.92   \n",
       "3  1116527     4         55     1885          135.86      134.86   \n",
       "4  1343872     5         55     1885          146.50      147.50   \n",
       "\n",
       "   emailer_for_promotion  homepage_featured  num_orders  city_code_x  ...  \\\n",
       "0                      0                  0    5.181784          647  ...   \n",
       "1                      0                  0    5.780744          647  ...   \n",
       "2                      0                  0    4.574711          647  ...   \n",
       "3                      0                  0    5.099866          647  ...   \n",
       "4                      0                  0    5.375278          647  ...   \n",
       "\n",
       "   op_area_x category_x  cuisine_x train_or_test city_code_y region_code_y  \\\n",
       "0        2.0  Beverages       Thai         train         647            56   \n",
       "1        2.0  Beverages       Thai         train         647            56   \n",
       "2        2.0  Beverages       Thai         train         647            56   \n",
       "3        2.0  Beverages       Thai         train         647            56   \n",
       "4        2.0  Beverages       Thai         train         647            56   \n",
       "\n",
       "   center_type_y  op_area_y category_y  cuisine_y  \n",
       "0         TYPE_C        2.0  Beverages       Thai  \n",
       "1         TYPE_C        2.0  Beverages       Thai  \n",
       "2         TYPE_C        2.0  Beverages       Thai  \n",
       "3         TYPE_C        2.0  Beverages       Thai  \n",
       "4         TYPE_C        2.0  Beverages       Thai  \n",
       "\n",
       "[5 rows x 22 columns]"
      ]
     },
     "execution_count": 70,
     "metadata": {},
     "output_type": "execute_result"
    }
   ],
   "source": [
    "train.head()"
   ]
  },
  {
   "cell_type": "code",
   "execution_count": 11,
   "metadata": {
    "colab": {},
    "colab_type": "code",
    "id": "narJsfaI7kIX",
    "outputId": "27ec5754-1755-4231-d2d8-4f438b4dce6d"
   },
   "outputs": [
    {
     "name": "stdout",
     "output_type": "stream",
     "text": [
      "<class 'pandas.core.frame.DataFrame'>\n",
      "Int64Index: 456548 entries, 0 to 456547\n",
      "Data columns (total 15 columns):\n",
      " #   Column                 Non-Null Count   Dtype  \n",
      "---  ------                 --------------   -----  \n",
      " 0   id                     456548 non-null  int64  \n",
      " 1   week                   456548 non-null  int64  \n",
      " 2   center_id              456548 non-null  int64  \n",
      " 3   meal_id                456548 non-null  int64  \n",
      " 4   checkout_price         456548 non-null  float64\n",
      " 5   base_price             456548 non-null  float64\n",
      " 6   emailer_for_promotion  456548 non-null  int64  \n",
      " 7   homepage_featured      456548 non-null  int64  \n",
      " 8   num_orders             456548 non-null  int64  \n",
      " 9   city_code              456548 non-null  int64  \n",
      " 10  region_code            456548 non-null  int64  \n",
      " 11  center_type            456548 non-null  object \n",
      " 12  op_area                456548 non-null  float64\n",
      " 13  category               456548 non-null  object \n",
      " 14  cuisine                456548 non-null  object \n",
      "dtypes: float64(3), int64(9), object(3)\n",
      "memory usage: 55.7+ MB\n"
     ]
    }
   ],
   "source": [
    "train.info()"
   ]
  },
  {
   "cell_type": "markdown",
   "metadata": {},
   "source": [
    "#### Feature Engineering"
   ]
  },
  {
   "cell_type": "code",
   "execution_count": 40,
   "metadata": {
    "colab": {},
    "colab_type": "code",
    "id": "5Ub-zRN77kTN"
   },
   "outputs": [],
   "source": [
    "train['train_or_test'] = 'train'\n",
    "test['train_or_test'] = 'test'"
   ]
  },
  {
   "cell_type": "code",
   "execution_count": 41,
   "metadata": {
    "colab": {},
    "colab_type": "code",
    "id": "1JoOnr1i7kTR"
   },
   "outputs": [],
   "source": [
    "train['num_orders'] = np.log1p(train['num_orders'])"
   ]
  },
  {
   "cell_type": "code",
   "execution_count": 42,
   "metadata": {
    "colab": {},
    "colab_type": "code",
    "id": "dw1QtKCH7kTW"
   },
   "outputs": [],
   "source": [
    "total_data = train.append(test).reset_index(drop=True)[train.columns]"
   ]
  },
  {
   "cell_type": "code",
   "execution_count": 43,
   "metadata": {
    "colab": {},
    "colab_type": "code",
    "id": "rgHk_DO27kTZ"
   },
   "outputs": [],
   "source": [
    "total_data = total_data.sort_values(['center_id', 'meal_id', 'week']).reset_index(drop=True)"
   ]
  },
  {
   "cell_type": "code",
   "execution_count": 44,
   "metadata": {
    "colab": {},
    "colab_type": "code",
    "id": "tP2PxrPI7kTb"
   },
   "outputs": [],
   "source": [
    "total_data['checkout_price'] = np.log1p(total_data['checkout_price'])\n",
    "total_data['base_price'] = np.log1p(total_data['base_price'])"
   ]
  },
  {
   "cell_type": "code",
   "execution_count": 45,
   "metadata": {
    "colab": {},
    "colab_type": "code",
    "id": "cv0V3lD57kTf"
   },
   "outputs": [],
   "source": [
    "total_data['discount_on_base'] = (total_data['base_price'] - total_data['checkout_price']) / total_data['base_price']"
   ]
  },
  {
   "cell_type": "code",
   "execution_count": 46,
   "metadata": {},
   "outputs": [],
   "source": [
    "total_data[\"discount_ratio\"] = total_data[\"base_price\"] / total_data[\"checkout_price\"]"
   ]
  },
  {
   "cell_type": "code",
   "execution_count": 47,
   "metadata": {
    "colab": {
     "base_uri": "https://localhost:8080/",
     "height": 279
    },
    "colab_type": "code",
    "id": "V_ADelO_7kTl",
    "outputId": "582ff6c7-ab07-482b-a58f-2fc88cec1693"
   },
   "outputs": [
    {
     "name": "stderr",
     "output_type": "stream",
     "text": [
      "C:\\Users\\HP\\anaconda3\\lib\\site-packages\\ipykernel_launcher.py:2: UserWarning: Matplotlib is currently using agg, which is a non-GUI backend, so cannot show the figure.\n",
      "  \n"
     ]
    }
   ],
   "source": [
    "sns.distplot(total_data['discount_on_base'], bins=500)\n",
    "plt.show()"
   ]
  },
  {
   "cell_type": "code",
   "execution_count": 48,
   "metadata": {
    "colab": {},
    "colab_type": "code",
    "id": "N0NPuuEp7kT2"
   },
   "outputs": [],
   "source": [
    "total_data['price_last_curr_diff'] = (total_data['checkout_price'].shift(1) - total_data['checkout_price']).fillna(1)/ total_data['checkout_price'].shift(1).fillna(1)"
   ]
  },
  {
   "cell_type": "code",
   "execution_count": 49,
   "metadata": {
    "colab": {},
    "colab_type": "code",
    "id": "2t-wZU537kT5"
   },
   "outputs": [],
   "source": [
    "for _, r in total_data.groupby(['center_id', 'meal_id'])['week'].first().reset_index().iterrows():\n",
    "    total_data.loc[(total_data['center_id']==r['center_id']) & (total_data['meal_id']==r['meal_id']) & (total_data['week']==r['week']), 'price_last_curr_diff'] = total_data[(total_data['center_id']==r['center_id']) & (total_data['meal_id']==r['meal_id']) & (total_data['week']!=r['week'])]['price_last_curr_diff'].mean()\n",
    "total_data['price_last_curr_diff'] = total_data['price_last_curr_diff'].fillna(0)"
   ]
  },
  {
   "cell_type": "markdown",
   "metadata": {
    "colab_type": "text",
    "id": "dFDVjtZx7kU3"
   },
   "source": [
    "#### Some functions to create aggregated, rolling mean/median, and exponentially weighted features.\n",
    "\n",
    "Code from : https://www.kaggle.com/abhilashawasthi/feature-engineering-lgb-model"
   ]
  },
  {
   "cell_type": "code",
   "execution_count": 50,
   "metadata": {
    "colab": {},
    "colab_type": "code",
    "id": "AamBqWtd7kU7"
   },
   "outputs": [],
   "source": [
    "# Features constructed from previous sales values\n",
    "\n",
    "#Creating sales lag features\n",
    "def create_sales_lag_feats(df, gpby_cols, target_col, lags):\n",
    "    gpby = df.groupby(gpby_cols)\n",
    "    for i in lags:\n",
    "        df['_'.join([target_col, 'lag', str(i)])] = \\\n",
    "                gpby[target_col].shift(i).values + np.random.normal(scale=1.6, size=(len(df),))\n",
    "    return df\n",
    "\n",
    "# Creating sales exponentially weighted mean features\n",
    "def create_sales_ewm_feats(df, gpby_cols, target_col, alpha=[0.9], shift=[1]):\n",
    "    gpby = df.groupby(gpby_cols)\n",
    "    for a in alpha:\n",
    "        for s in shift:\n",
    "            df['_'.join([target_col, 'lag', str(s), 'ewm', str(a)])] = \\\n",
    "                gpby[target_col].shift(s).ewm(alpha=a).mean().values\n",
    "    return df"
   ]
  },
  {
   "cell_type": "code",
   "execution_count": 51,
   "metadata": {
    "colab": {},
    "colab_type": "code",
    "id": "kwc4SNbZ7kVC"
   },
   "outputs": [],
   "source": [
    "# Creating num_orders lag, rolling mean, rolling median, ohe features of the above train set\n",
    "total_data = create_sales_lag_feats(total_data, gpby_cols=['center_id','meal_id'], target_col='num_orders', \n",
    "                               lags=[10,11, 12])\n",
    "\n",
    "total_data = create_sales_ewm_feats(total_data, gpby_cols=['center_id','meal_id'], \n",
    "                               target_col='num_orders', \n",
    "                               alpha=[0.5], \n",
    "                               shift=[10,11,12,13,14,15])"
   ]
  },
  {
   "cell_type": "code",
   "execution_count": 52,
   "metadata": {},
   "outputs": [
    {
     "data": {
      "text/html": [
       "<div>\n",
       "<style scoped>\n",
       "    .dataframe tbody tr th:only-of-type {\n",
       "        vertical-align: middle;\n",
       "    }\n",
       "\n",
       "    .dataframe tbody tr th {\n",
       "        vertical-align: top;\n",
       "    }\n",
       "\n",
       "    .dataframe thead th {\n",
       "        text-align: right;\n",
       "    }\n",
       "</style>\n",
       "<table border=\"1\" class=\"dataframe\">\n",
       "  <thead>\n",
       "    <tr style=\"text-align: right;\">\n",
       "      <th></th>\n",
       "      <th>id</th>\n",
       "      <th>week</th>\n",
       "      <th>center_id</th>\n",
       "      <th>meal_id</th>\n",
       "      <th>checkout_price</th>\n",
       "      <th>base_price</th>\n",
       "      <th>emailer_for_promotion</th>\n",
       "      <th>homepage_featured</th>\n",
       "      <th>num_orders</th>\n",
       "      <th>city_code</th>\n",
       "      <th>...</th>\n",
       "      <th>price_last_curr_diff</th>\n",
       "      <th>num_orders_lag_10</th>\n",
       "      <th>num_orders_lag_11</th>\n",
       "      <th>num_orders_lag_12</th>\n",
       "      <th>num_orders_lag_10_ewm_0.5</th>\n",
       "      <th>num_orders_lag_11_ewm_0.5</th>\n",
       "      <th>num_orders_lag_12_ewm_0.5</th>\n",
       "      <th>num_orders_lag_13_ewm_0.5</th>\n",
       "      <th>num_orders_lag_14_ewm_0.5</th>\n",
       "      <th>num_orders_lag_15_ewm_0.5</th>\n",
       "    </tr>\n",
       "  </thead>\n",
       "  <tbody>\n",
       "    <tr>\n",
       "      <th>0</th>\n",
       "      <td>1436842</td>\n",
       "      <td>1</td>\n",
       "      <td>10</td>\n",
       "      <td>1062</td>\n",
       "      <td>5.206147</td>\n",
       "      <td>5.206147</td>\n",
       "      <td>0</td>\n",
       "      <td>0</td>\n",
       "      <td>6.763885</td>\n",
       "      <td>590</td>\n",
       "      <td>...</td>\n",
       "      <td>0.000086</td>\n",
       "      <td>NaN</td>\n",
       "      <td>NaN</td>\n",
       "      <td>NaN</td>\n",
       "      <td>NaN</td>\n",
       "      <td>NaN</td>\n",
       "      <td>NaN</td>\n",
       "      <td>NaN</td>\n",
       "      <td>NaN</td>\n",
       "      <td>NaN</td>\n",
       "    </tr>\n",
       "    <tr>\n",
       "      <th>1</th>\n",
       "      <td>1205013</td>\n",
       "      <td>2</td>\n",
       "      <td>10</td>\n",
       "      <td>1062</td>\n",
       "      <td>5.216890</td>\n",
       "      <td>5.211451</td>\n",
       "      <td>0</td>\n",
       "      <td>0</td>\n",
       "      <td>6.663133</td>\n",
       "      <td>590</td>\n",
       "      <td>...</td>\n",
       "      <td>-0.002064</td>\n",
       "      <td>NaN</td>\n",
       "      <td>NaN</td>\n",
       "      <td>NaN</td>\n",
       "      <td>NaN</td>\n",
       "      <td>NaN</td>\n",
       "      <td>NaN</td>\n",
       "      <td>NaN</td>\n",
       "      <td>NaN</td>\n",
       "      <td>NaN</td>\n",
       "    </tr>\n",
       "    <tr>\n",
       "      <th>2</th>\n",
       "      <td>1447751</td>\n",
       "      <td>3</td>\n",
       "      <td>10</td>\n",
       "      <td>1062</td>\n",
       "      <td>5.222300</td>\n",
       "      <td>5.211451</td>\n",
       "      <td>0</td>\n",
       "      <td>0</td>\n",
       "      <td>6.747587</td>\n",
       "      <td>590</td>\n",
       "      <td>...</td>\n",
       "      <td>-0.001037</td>\n",
       "      <td>NaN</td>\n",
       "      <td>NaN</td>\n",
       "      <td>NaN</td>\n",
       "      <td>NaN</td>\n",
       "      <td>NaN</td>\n",
       "      <td>NaN</td>\n",
       "      <td>NaN</td>\n",
       "      <td>NaN</td>\n",
       "      <td>NaN</td>\n",
       "    </tr>\n",
       "    <tr>\n",
       "      <th>3</th>\n",
       "      <td>1014968</td>\n",
       "      <td>4</td>\n",
       "      <td>10</td>\n",
       "      <td>1062</td>\n",
       "      <td>5.211451</td>\n",
       "      <td>5.216890</td>\n",
       "      <td>0</td>\n",
       "      <td>0</td>\n",
       "      <td>7.092574</td>\n",
       "      <td>590</td>\n",
       "      <td>...</td>\n",
       "      <td>0.002077</td>\n",
       "      <td>NaN</td>\n",
       "      <td>NaN</td>\n",
       "      <td>NaN</td>\n",
       "      <td>NaN</td>\n",
       "      <td>NaN</td>\n",
       "      <td>NaN</td>\n",
       "      <td>NaN</td>\n",
       "      <td>NaN</td>\n",
       "      <td>NaN</td>\n",
       "    </tr>\n",
       "    <tr>\n",
       "      <th>4</th>\n",
       "      <td>1003563</td>\n",
       "      <td>5</td>\n",
       "      <td>10</td>\n",
       "      <td>1062</td>\n",
       "      <td>5.217053</td>\n",
       "      <td>5.206147</td>\n",
       "      <td>0</td>\n",
       "      <td>0</td>\n",
       "      <td>6.865891</td>\n",
       "      <td>590</td>\n",
       "      <td>...</td>\n",
       "      <td>-0.001075</td>\n",
       "      <td>NaN</td>\n",
       "      <td>NaN</td>\n",
       "      <td>NaN</td>\n",
       "      <td>NaN</td>\n",
       "      <td>NaN</td>\n",
       "      <td>NaN</td>\n",
       "      <td>NaN</td>\n",
       "      <td>NaN</td>\n",
       "      <td>NaN</td>\n",
       "    </tr>\n",
       "  </tbody>\n",
       "</table>\n",
       "<p>5 rows × 28 columns</p>\n",
       "</div>"
      ],
      "text/plain": [
       "        id  week  center_id  meal_id  checkout_price  base_price  \\\n",
       "0  1436842     1         10     1062        5.206147    5.206147   \n",
       "1  1205013     2         10     1062        5.216890    5.211451   \n",
       "2  1447751     3         10     1062        5.222300    5.211451   \n",
       "3  1014968     4         10     1062        5.211451    5.216890   \n",
       "4  1003563     5         10     1062        5.217053    5.206147   \n",
       "\n",
       "   emailer_for_promotion  homepage_featured  num_orders  city_code  ...  \\\n",
       "0                      0                  0    6.763885        590  ...   \n",
       "1                      0                  0    6.663133        590  ...   \n",
       "2                      0                  0    6.747587        590  ...   \n",
       "3                      0                  0    7.092574        590  ...   \n",
       "4                      0                  0    6.865891        590  ...   \n",
       "\n",
       "   price_last_curr_diff num_orders_lag_10  num_orders_lag_11  \\\n",
       "0              0.000086               NaN                NaN   \n",
       "1             -0.002064               NaN                NaN   \n",
       "2             -0.001037               NaN                NaN   \n",
       "3              0.002077               NaN                NaN   \n",
       "4             -0.001075               NaN                NaN   \n",
       "\n",
       "  num_orders_lag_12 num_orders_lag_10_ewm_0.5 num_orders_lag_11_ewm_0.5  \\\n",
       "0               NaN                       NaN                       NaN   \n",
       "1               NaN                       NaN                       NaN   \n",
       "2               NaN                       NaN                       NaN   \n",
       "3               NaN                       NaN                       NaN   \n",
       "4               NaN                       NaN                       NaN   \n",
       "\n",
       "   num_orders_lag_12_ewm_0.5  num_orders_lag_13_ewm_0.5  \\\n",
       "0                        NaN                        NaN   \n",
       "1                        NaN                        NaN   \n",
       "2                        NaN                        NaN   \n",
       "3                        NaN                        NaN   \n",
       "4                        NaN                        NaN   \n",
       "\n",
       "   num_orders_lag_14_ewm_0.5  num_orders_lag_15_ewm_0.5  \n",
       "0                        NaN                        NaN  \n",
       "1                        NaN                        NaN  \n",
       "2                        NaN                        NaN  \n",
       "3                        NaN                        NaN  \n",
       "4                        NaN                        NaN  \n",
       "\n",
       "[5 rows x 28 columns]"
      ]
     },
     "execution_count": 52,
     "metadata": {},
     "output_type": "execute_result"
    }
   ],
   "source": [
    "total_data.head()"
   ]
  },
  {
   "cell_type": "code",
   "execution_count": 53,
   "metadata": {},
   "outputs": [],
   "source": [
    "### Center count features ###\n",
    "gdf = total_data.groupby([\"center_id\", \"week\"])[\"id\"].agg(['size']).reset_index()\n",
    "gdf.columns = [\"center_id\", \"week\", \"center_week_count\"]\n",
    "total_data = pd.merge(total_data,gdf, on=[\"center_id\", \"week\"], how=\"left\")\n",
    "\n",
    "gdf = total_data.groupby([\"center_id\", \"category\"])[\"id\"].count().reset_index()\n",
    "gdf.columns = [\"center_id\", \"category\", \"center_cat_count\"]\n",
    "total_data = pd.merge(total_data,gdf, on=[\"center_id\", \"category\"], how=\"left\")\n",
    "\n",
    "gdf = total_data.groupby([\"center_id\", \"category\", \"week\"])[\"id\"].count().reset_index()\n",
    "gdf.columns = [\"center_id\", \"category\", \"week\", \"center_cat_week_count\"]\n",
    "total_data = pd.merge(total_data,gdf, on=[\"center_id\", \"category\", \"week\"], how=\"left\")\n",
    "\n",
    "gdf = total_data.groupby([\"center_id\", \"cuisine\"])[\"id\"].count().reset_index()\n",
    "gdf.columns = [\"center_id\", \"cuisine\", \"center_cui_count\"]\n",
    "total_data = pd.merge(total_data,gdf, on=[\"center_id\", \"cuisine\"], how=\"left\")"
   ]
  },
  {
   "cell_type": "code",
   "execution_count": 54,
   "metadata": {},
   "outputs": [],
   "source": [
    "### Meal count features ###\n",
    "gdf = total_data.groupby([\"meal_id\"])[\"id\"].count().reset_index()\n",
    "gdf.columns = [\"meal_id\", \"meal_count\"]\n",
    "total_data = pd.merge(total_data,gdf, on=[\"meal_id\"], how=\"left\")\n",
    "\n",
    "gdf = total_data.groupby([\"region_code\", \"meal_id\"])[\"id\"].count().reset_index()\n",
    "gdf.columns = [\"region_code\", \"meal_id\", \"region_meal_count\"]\n",
    "total_data= pd.merge(total_data,gdf, on=[\"region_code\", \"meal_id\"], how=\"left\")\n",
    "\n",
    "gdf = total_data.groupby([\"meal_id\", \"week\"])[\"id\"].count().reset_index()\n",
    "gdf.columns = [\"meal_id\", \"week\", \"meal_week_count\"]\n",
    "total_data = pd.merge(total_data,gdf, on=[\"meal_id\", \"week\"], how=\"left\")\n",
    "\n",
    "gdf =total_data.groupby([\"center_type\", \"meal_id\", \"week\"])[\"id\"].count().reset_index()\n",
    "gdf.columns = [\"center_type\", \"meal_id\", \"week\", \"type_meal_week_count\"]\n",
    "total_data = pd.merge(total_data,gdf, on=[\"center_type\", \"meal_id\", \"week\"], how=\"left\")\n",
    "\n",
    "gdf = total_data.groupby([\"region_code\", \"meal_id\", \"week\"])[\"id\"].count().reset_index()\n",
    "gdf.columns = [\"region_code\", \"meal_id\", \"week\", \"region_meal_week_count\"]\n",
    "total_data = pd.merge(total_data,gdf, on=[\"region_code\", \"meal_id\", \"week\"], how=\"left\")\n",
    "\n",
    "gdf =total_data.groupby([\"city_code\", \"meal_id\", \"week\"])[\"id\"].count().reset_index()\n",
    "gdf.columns = [\"city_code\", \"meal_id\", \"week\", \"city_meal_week_count\"]\n",
    "total_data = pd.merge(total_data,gdf, on=[\"city_code\", \"meal_id\", \"week\"], how=\"left\")"
   ]
  },
  {
   "cell_type": "code",
   "execution_count": 55,
   "metadata": {},
   "outputs": [],
   "source": [
    "### Price rank ###\n",
    "total_data[\"meal_price_rank\"] = total_data.groupby(\"meal_id\")[\"checkout_price\"].rank()\n",
    "total_data[\"meal_city_price_rank\"] =total_data.groupby([\"meal_id\", \"city_code\"])[\"checkout_price\"].rank()\n",
    "total_data[\"meal_region_price_rank\"] = total_data.groupby([\"meal_id\", \"region_code\"])[\"checkout_price\"].rank()\n",
    "total_data[\"meal_week_price_rank\"] = total_data.groupby([\"meal_id\", \"week\"])[\"checkout_price\"].rank()\n",
    "\n",
    "total_data[\"center_price_rank\"] = total_data.groupby(\"center_id\")[\"checkout_price\"].rank()\n",
    "total_data[\"center_week_price_rank\"] = total_data.groupby([\"center_id\", \"week\"])[\"checkout_price\"].rank()\n",
    "total_data[\"center_cat_price_rank\"] = total_data.groupby([\"center_id\", \"category\"])[\"checkout_price\"].rank()"
   ]
  },
  {
   "cell_type": "code",
   "execution_count": 56,
   "metadata": {},
   "outputs": [],
   "source": [
    "### Week features ###\n",
    "gdf = total_data.groupby([\"meal_id\"])[\"checkout_price\"].agg([\"min\", \"max\", \"mean\", \"std\"]).reset_index()\n",
    "gdf.columns = [\"meal_id\", \"meal_price_min\", \"meal_price_max\", \"meal_price_mean\", \"meal_price_std\"]\n",
    "total_data = pd.merge(total_data,gdf, on=[\"meal_id\"], how=\"left\")\n",
    "\n",
    "gdf = total_data.groupby([\"meal_id\"])[\"base_price\"].agg([\"min\", \"max\", \"mean\", \"std\"]).reset_index()\n",
    "gdf.columns = [\"meal_id\", \"disc_price_min\", \"disc_price_max\", \"disc_price_mean\", \"disc_price_std\"]\n",
    "total_data = pd.merge(total_data,gdf, on=[\"meal_id\"], how=\"left\")\n",
    "\n",
    "gdf = total_data.groupby([\"city_code\",\"meal_id\", \"week\"])[\"checkout_price\"].agg([\"min\", \"max\", \"mean\", \"std\"]).reset_index()\n",
    "gdf.columns = [\"city_code\", \"meal_id\", \"week\", \"meal_price2_min\", \"meal_price2_max\", \"meal_price2_mean\", \"meal_price2_std\"]\n",
    "total_data= pd.merge(total_data,gdf, on=[\"city_code\", \"meal_id\", \"week\"], how=\"left\")\n",
    "\n",
    "gdf = total_data.groupby([\"city_code\", \"category\"])[\"checkout_price\"].agg([\"mean\", \"std\"]).reset_index()\n",
    "gdf.columns = [\"city_code\", \"category\", \"meal_price3_mean\", \"meal_price3_std\"]\n",
    "total_datal = pd.merge(total_data,gdf, on=[\"city_code\", \"category\"], how=\"left\")"
   ]
  },
  {
   "cell_type": "code",
   "execution_count": 57,
   "metadata": {},
   "outputs": [],
   "source": [
    "total_data['center_id'] = total_data['center_id'].astype(np.object)\n",
    "total_data['meal_id'] = total_data['meal_id'].astype(np.object)\n",
    "total_data['region_code'] = total_data['region_code'].astype(np.object)\n",
    "total_datal['city_code'] = total_data['city_code'].astype(np.object)"
   ]
  },
  {
   "cell_type": "code",
   "execution_count": 58,
   "metadata": {
    "colab": {},
    "colab_type": "code",
    "id": "u2qcWb-j7kVv"
   },
   "outputs": [],
   "source": [
    "train_data = total_data.loc[total_data['train_or_test']=='train', :]\n",
    "test_data = total_data.loc[total_data['train_or_test']=='test', :]"
   ]
  },
  {
   "cell_type": "code",
   "execution_count": 59,
   "metadata": {},
   "outputs": [],
   "source": [
    "center_meal_mean = train_data.groupby(['center_id','meal_id'])['num_orders'].mean()\n",
    "center_meal_mean = center_meal_mean.reset_index()\n",
    "center_meal_mean = center_meal_mean.rename(columns={'num_orders':'avg_orders'})\n",
    "train_data = pd.merge(train_data,center_meal_mean, how='left', left_on=['center_id','meal_id'], right_on = ['center_id','meal_id'])\n",
    "test_data = pd.merge(test_data,center_meal_mean, how='left', left_on=['center_id','meal_id'], right_on = ['center_id','meal_id'])\n",
    "center_mean = train_data.groupby('center_id')['num_orders'].mean()\n",
    "center_mean = center_mean.reset_index()\n",
    "center_mean = center_mean.rename(columns={'num_orders':'avg_center'})\n",
    "train_data = pd.merge(train_data,center_mean, how='left', left_on=['center_id'], right_on = ['center_id'])\n",
    "test_data = pd.merge(test_data,center_mean, how='left', left_on=['center_id'], right_on = ['center_id'])\n",
    "meal_mean = train_data.groupby('meal_id')['num_orders'].mean()\n",
    "meal_mean = meal_mean.reset_index()\n",
    "meal_mean = meal_mean.rename(columns={'num_orders':'avg_meal'})\n",
    "train_data = pd.merge(train_data, meal_mean,how='left',left_on=['meal_id'], right_on = ['meal_id'])\n",
    "test_data = pd.merge(test_data, meal_mean,how='left',left_on=['meal_id'], right_on = ['meal_id'])"
   ]
  },
  {
   "cell_type": "code",
   "execution_count": 60,
   "metadata": {
    "colab": {
     "base_uri": "https://localhost:8080/",
     "height": 34
    },
    "colab_type": "code",
    "id": "P0X-hzgj7kVy",
    "outputId": "36bbd97a-1624-4549-eab0-6a885cdb5c72"
   },
   "outputs": [
    {
     "name": "stdout",
     "output_type": "stream",
     "text": [
      "<class 'pandas.core.frame.DataFrame'>\n",
      "Int64Index: 456546 entries, 0 to 456545\n",
      "Data columns (total 60 columns):\n",
      " #   Column                     Non-Null Count   Dtype  \n",
      "---  ------                     --------------   -----  \n",
      " 0   id                         456546 non-null  int64  \n",
      " 1   week                       456546 non-null  int64  \n",
      " 2   center_id                  456546 non-null  object \n",
      " 3   meal_id                    456546 non-null  object \n",
      " 4   checkout_price             456546 non-null  float64\n",
      " 5   base_price                 456546 non-null  float64\n",
      " 6   emailer_for_promotion      456546 non-null  int64  \n",
      " 7   homepage_featured          456546 non-null  int64  \n",
      " 8   num_orders                 456546 non-null  float64\n",
      " 9   city_code                  456546 non-null  int64  \n",
      " 10  region_code                456546 non-null  object \n",
      " 11  center_type                456546 non-null  object \n",
      " 12  op_area                    456546 non-null  float64\n",
      " 13  category                   456546 non-null  object \n",
      " 14  cuisine                    456546 non-null  object \n",
      " 15  train_or_test              456546 non-null  object \n",
      " 16  discount_on_base           456546 non-null  float64\n",
      " 17  discount_ratio             456546 non-null  float64\n",
      " 18  price_last_curr_diff       456546 non-null  float64\n",
      " 19  num_orders_lag_10          420703 non-null  float64\n",
      " 20  num_orders_lag_11          417134 non-null  float64\n",
      " 21  num_orders_lag_12          413566 non-null  float64\n",
      " 22  num_orders_lag_10_ewm_0.5  456536 non-null  float64\n",
      " 23  num_orders_lag_11_ewm_0.5  456535 non-null  float64\n",
      " 24  num_orders_lag_12_ewm_0.5  456534 non-null  float64\n",
      " 25  num_orders_lag_13_ewm_0.5  456533 non-null  float64\n",
      " 26  num_orders_lag_14_ewm_0.5  456532 non-null  float64\n",
      " 27  num_orders_lag_15_ewm_0.5  456531 non-null  float64\n",
      " 28  center_week_count          456546 non-null  int64  \n",
      " 29  center_cat_count           456546 non-null  int64  \n",
      " 30  center_cat_week_count      456546 non-null  int64  \n",
      " 31  center_cui_count           456546 non-null  int64  \n",
      " 32  meal_count                 456546 non-null  int64  \n",
      " 33  region_meal_count          456546 non-null  int64  \n",
      " 34  meal_week_count            456546 non-null  int64  \n",
      " 35  type_meal_week_count       456546 non-null  int64  \n",
      " 36  region_meal_week_count     456546 non-null  int64  \n",
      " 37  city_meal_week_count       456546 non-null  int64  \n",
      " 38  meal_price_rank            456546 non-null  float64\n",
      " 39  meal_city_price_rank       456546 non-null  float64\n",
      " 40  meal_region_price_rank     456546 non-null  float64\n",
      " 41  meal_week_price_rank       456546 non-null  float64\n",
      " 42  center_price_rank          456546 non-null  float64\n",
      " 43  center_week_price_rank     456546 non-null  float64\n",
      " 44  center_cat_price_rank      456546 non-null  float64\n",
      " 45  meal_price_min             456546 non-null  float64\n",
      " 46  meal_price_max             456546 non-null  float64\n",
      " 47  meal_price_mean            456546 non-null  float64\n",
      " 48  meal_price_std             456546 non-null  float64\n",
      " 49  disc_price_min             456546 non-null  float64\n",
      " 50  disc_price_max             456546 non-null  float64\n",
      " 51  disc_price_mean            456546 non-null  float64\n",
      " 52  disc_price_std             456546 non-null  float64\n",
      " 53  meal_price2_min            456546 non-null  float64\n",
      " 54  meal_price2_max            456546 non-null  float64\n",
      " 55  meal_price2_mean           456546 non-null  float64\n",
      " 56  meal_price2_std            216267 non-null  float64\n",
      " 57  avg_orders                 456546 non-null  float64\n",
      " 58  avg_center                 456546 non-null  float64\n",
      " 59  avg_meal                   456546 non-null  float64\n",
      "dtypes: float64(38), int64(15), object(7)\n",
      "memory usage: 212.5+ MB\n"
     ]
    }
   ],
   "source": [
    "train_data.info()"
   ]
  },
  {
   "cell_type": "code",
   "execution_count": 61,
   "metadata": {
    "colab": {
     "base_uri": "https://localhost:8080/",
     "height": 34
    },
    "colab_type": "code",
    "id": "pHgLmVs-7kV-",
    "outputId": "50a231fc-b07b-4fe5-be7b-9c571a3dc6a7"
   },
   "outputs": [
    {
     "name": "stdout",
     "output_type": "stream",
     "text": [
      "<class 'pandas.core.frame.DataFrame'>\n",
      "Int64Index: 32573 entries, 0 to 32572\n",
      "Data columns (total 60 columns):\n",
      " #   Column                     Non-Null Count  Dtype  \n",
      "---  ------                     --------------  -----  \n",
      " 0   id                         32573 non-null  int64  \n",
      " 1   week                       32573 non-null  int64  \n",
      " 2   center_id                  32573 non-null  object \n",
      " 3   meal_id                    32573 non-null  object \n",
      " 4   checkout_price             32573 non-null  float64\n",
      " 5   base_price                 32573 non-null  float64\n",
      " 6   emailer_for_promotion      32573 non-null  int64  \n",
      " 7   homepage_featured          32573 non-null  int64  \n",
      " 8   num_orders                 0 non-null      float64\n",
      " 9   city_code                  32573 non-null  int64  \n",
      " 10  region_code                32573 non-null  object \n",
      " 11  center_type                32573 non-null  object \n",
      " 12  op_area                    32573 non-null  float64\n",
      " 13  category                   32573 non-null  object \n",
      " 14  cuisine                    32573 non-null  object \n",
      " 15  train_or_test              32573 non-null  object \n",
      " 16  discount_on_base           32573 non-null  float64\n",
      " 17  discount_ratio             32573 non-null  float64\n",
      " 18  price_last_curr_diff       32573 non-null  float64\n",
      " 19  num_orders_lag_10          32539 non-null  float64\n",
      " 20  num_orders_lag_11          32536 non-null  float64\n",
      " 21  num_orders_lag_12          32533 non-null  float64\n",
      " 22  num_orders_lag_10_ewm_0.5  32573 non-null  float64\n",
      " 23  num_orders_lag_11_ewm_0.5  32573 non-null  float64\n",
      " 24  num_orders_lag_12_ewm_0.5  32573 non-null  float64\n",
      " 25  num_orders_lag_13_ewm_0.5  32573 non-null  float64\n",
      " 26  num_orders_lag_14_ewm_0.5  32573 non-null  float64\n",
      " 27  num_orders_lag_15_ewm_0.5  32573 non-null  float64\n",
      " 28  center_week_count          32573 non-null  int64  \n",
      " 29  center_cat_count           32573 non-null  int64  \n",
      " 30  center_cat_week_count      32573 non-null  int64  \n",
      " 31  center_cui_count           32573 non-null  int64  \n",
      " 32  meal_count                 32573 non-null  int64  \n",
      " 33  region_meal_count          32573 non-null  int64  \n",
      " 34  meal_week_count            32573 non-null  int64  \n",
      " 35  type_meal_week_count       32573 non-null  int64  \n",
      " 36  region_meal_week_count     32573 non-null  int64  \n",
      " 37  city_meal_week_count       32573 non-null  int64  \n",
      " 38  meal_price_rank            32573 non-null  float64\n",
      " 39  meal_city_price_rank       32573 non-null  float64\n",
      " 40  meal_region_price_rank     32573 non-null  float64\n",
      " 41  meal_week_price_rank       32573 non-null  float64\n",
      " 42  center_price_rank          32573 non-null  float64\n",
      " 43  center_week_price_rank     32573 non-null  float64\n",
      " 44  center_cat_price_rank      32573 non-null  float64\n",
      " 45  meal_price_min             32573 non-null  float64\n",
      " 46  meal_price_max             32573 non-null  float64\n",
      " 47  meal_price_mean            32573 non-null  float64\n",
      " 48  meal_price_std             32573 non-null  float64\n",
      " 49  disc_price_min             32573 non-null  float64\n",
      " 50  disc_price_max             32573 non-null  float64\n",
      " 51  disc_price_mean            32573 non-null  float64\n",
      " 52  disc_price_std             32573 non-null  float64\n",
      " 53  meal_price2_min            32573 non-null  float64\n",
      " 54  meal_price2_max            32573 non-null  float64\n",
      " 55  meal_price2_mean           32573 non-null  float64\n",
      " 56  meal_price2_std            15528 non-null  float64\n",
      " 57  avg_orders                 32560 non-null  float64\n",
      " 58  avg_center                 32573 non-null  float64\n",
      " 59  avg_meal                   32573 non-null  float64\n",
      "dtypes: float64(38), int64(15), object(7)\n",
      "memory usage: 15.2+ MB\n"
     ]
    }
   ],
   "source": [
    "test_data.info()"
   ]
  },
  {
   "cell_type": "markdown",
   "metadata": {
    "colab_type": "text",
    "id": "Iq5-zOqi7kWX"
   },
   "source": [
    "###  Model"
   ]
  },
  {
   "cell_type": "code",
   "execution_count": 62,
   "metadata": {
    "colab": {},
    "colab_type": "code",
    "id": "5UCMCvsI7kWX"
   },
   "outputs": [],
   "source": [
    "avoid_column = ['id', 'num_orders', 'train_or_test']"
   ]
  },
  {
   "cell_type": "code",
   "execution_count": 63,
   "metadata": {
    "colab": {},
    "colab_type": "code",
    "id": "Kcw7yUIX7kWZ"
   },
   "outputs": [],
   "source": [
    "features = [col for col in test_data.columns if col not in avoid_column]"
   ]
  },
  {
   "cell_type": "code",
   "execution_count": 64,
   "metadata": {
    "colab": {
     "base_uri": "https://localhost:8080/",
     "height": 374
    },
    "colab_type": "code",
    "id": "NiL0jKAjDasm",
    "outputId": "b5b73194-7848-4407-aa6d-7a881fa3b45e",
    "scrolled": true
   },
   "outputs": [
    {
     "data": {
      "text/plain": [
       "['week',\n",
       " 'center_id',\n",
       " 'meal_id',\n",
       " 'checkout_price',\n",
       " 'base_price',\n",
       " 'emailer_for_promotion',\n",
       " 'homepage_featured',\n",
       " 'city_code',\n",
       " 'region_code',\n",
       " 'center_type',\n",
       " 'op_area',\n",
       " 'category',\n",
       " 'cuisine',\n",
       " 'discount_on_base',\n",
       " 'discount_ratio',\n",
       " 'price_last_curr_diff',\n",
       " 'num_orders_lag_10',\n",
       " 'num_orders_lag_11',\n",
       " 'num_orders_lag_12',\n",
       " 'num_orders_lag_10_ewm_0.5',\n",
       " 'num_orders_lag_11_ewm_0.5',\n",
       " 'num_orders_lag_12_ewm_0.5',\n",
       " 'num_orders_lag_13_ewm_0.5',\n",
       " 'num_orders_lag_14_ewm_0.5',\n",
       " 'num_orders_lag_15_ewm_0.5',\n",
       " 'center_week_count',\n",
       " 'center_cat_count',\n",
       " 'center_cat_week_count',\n",
       " 'center_cui_count',\n",
       " 'meal_count',\n",
       " 'region_meal_count',\n",
       " 'meal_week_count',\n",
       " 'type_meal_week_count',\n",
       " 'region_meal_week_count',\n",
       " 'city_meal_week_count',\n",
       " 'meal_price_rank',\n",
       " 'meal_city_price_rank',\n",
       " 'meal_region_price_rank',\n",
       " 'meal_week_price_rank',\n",
       " 'center_price_rank',\n",
       " 'center_week_price_rank',\n",
       " 'center_cat_price_rank',\n",
       " 'meal_price_min',\n",
       " 'meal_price_max',\n",
       " 'meal_price_mean',\n",
       " 'meal_price_std',\n",
       " 'disc_price_min',\n",
       " 'disc_price_max',\n",
       " 'disc_price_mean',\n",
       " 'disc_price_std',\n",
       " 'meal_price2_min',\n",
       " 'meal_price2_max',\n",
       " 'meal_price2_mean',\n",
       " 'meal_price2_std',\n",
       " 'avg_orders',\n",
       " 'avg_center',\n",
       " 'avg_meal']"
      ]
     },
     "execution_count": 64,
     "metadata": {},
     "output_type": "execute_result"
    }
   ],
   "source": [
    "features"
   ]
  },
  {
   "cell_type": "code",
   "execution_count": 65,
   "metadata": {},
   "outputs": [
    {
     "data": {
      "text/plain": [
       "array([ 1,  2,  8,  9, 11, 12], dtype=int64)"
      ]
     },
     "execution_count": 65,
     "metadata": {},
     "output_type": "execute_result"
    }
   ],
   "source": [
    "categorical_features_indices = np.where(train_data[features].dtypes =='object')[0]\n",
    "categorical_features_indices"
   ]
  },
  {
   "cell_type": "code",
   "execution_count": 66,
   "metadata": {
    "colab": {},
    "colab_type": "code",
    "id": "GJuUz2mm7kWg"
   },
   "outputs": [],
   "source": [
    "model = CatBoostRegressor(\n",
    "    iterations=2000, \n",
    "    learning_rate=0.02, \n",
    "    max_depth=8, \n",
    "    l2_leaf_reg=10, \n",
    "    loss_function='RMSE',\n",
    "    random_seed=2019,\n",
    "    od_type='Iter',\n",
    "    od_wait=25,\n",
    "    verbose=100,\n",
    "    use_best_model=True\n",
    "    )"
   ]
  },
  {
   "cell_type": "code",
   "execution_count": 74,
   "metadata": {},
   "outputs": [
    {
     "name": "stdout",
     "output_type": "stream",
     "text": [
      "0:\tlearn: 4.9368219\ttest: 4.9318370\tbest: 4.9318370 (0)\ttotal: 937ms\tremaining: 31m 12s\n",
      "100:\tlearn: 0.8488828\ttest: 0.8486273\tbest: 0.8486273 (100)\ttotal: 1m 9s\tremaining: 21m 39s\n",
      "200:\tlearn: 0.5105596\ttest: 0.5128419\tbest: 0.5128419 (200)\ttotal: 2m 23s\tremaining: 21m 26s\n",
      "300:\tlearn: 0.4905912\ttest: 0.4934765\tbest: 0.4934765 (300)\ttotal: 3m 39s\tremaining: 20m 38s\n",
      "400:\tlearn: 0.4832615\ttest: 0.4865562\tbest: 0.4865562 (400)\ttotal: 4m 53s\tremaining: 19m 29s\n",
      "500:\tlearn: 0.4781260\ttest: 0.4817708\tbest: 0.4817708 (500)\ttotal: 6m 11s\tremaining: 18m 32s\n",
      "600:\tlearn: 0.4741205\ttest: 0.4781433\tbest: 0.4781433 (600)\ttotal: 7m 24s\tremaining: 17m 15s\n",
      "700:\tlearn: 0.4707233\ttest: 0.4750959\tbest: 0.4750959 (700)\ttotal: 8m 37s\tremaining: 15m 59s\n",
      "800:\tlearn: 0.4679035\ttest: 0.4726121\tbest: 0.4726121 (800)\ttotal: 9m 51s\tremaining: 14m 46s\n",
      "900:\tlearn: 0.4652919\ttest: 0.4703882\tbest: 0.4703882 (900)\ttotal: 11m 6s\tremaining: 13m 32s\n",
      "1000:\tlearn: 0.4630361\ttest: 0.4684845\tbest: 0.4684845 (1000)\ttotal: 12m 24s\tremaining: 12m 23s\n",
      "1100:\tlearn: 0.4610123\ttest: 0.4668399\tbest: 0.4668399 (1100)\ttotal: 13m 42s\tremaining: 11m 11s\n",
      "1200:\tlearn: 0.4591865\ttest: 0.4653913\tbest: 0.4653913 (1200)\ttotal: 15m\tremaining: 9m 59s\n",
      "1300:\tlearn: 0.4575849\ttest: 0.4641512\tbest: 0.4641512 (1300)\ttotal: 16m 22s\tremaining: 8m 47s\n",
      "1400:\tlearn: 0.4559503\ttest: 0.4629247\tbest: 0.4629247 (1400)\ttotal: 17m 50s\tremaining: 7m 37s\n",
      "1500:\tlearn: 0.4544578\ttest: 0.4617969\tbest: 0.4617969 (1500)\ttotal: 19m 8s\tremaining: 6m 21s\n",
      "1600:\tlearn: 0.4530737\ttest: 0.4607721\tbest: 0.4607721 (1600)\ttotal: 20m 27s\tremaining: 5m 5s\n",
      "1700:\tlearn: 0.4518210\ttest: 0.4598972\tbest: 0.4598972 (1700)\ttotal: 21m 41s\tremaining: 3m 48s\n",
      "1800:\tlearn: 0.4506434\ttest: 0.4590798\tbest: 0.4590798 (1800)\ttotal: 23m 1s\tremaining: 2m 32s\n",
      "1900:\tlearn: 0.4495737\ttest: 0.4583770\tbest: 0.4583770 (1900)\ttotal: 24m 28s\tremaining: 1m 16s\n",
      "1999:\tlearn: 0.4485139\ttest: 0.4576793\tbest: 0.4576793 (1999)\ttotal: 25m 51s\tremaining: 0us\n",
      "\n",
      "bestTest = 0.4576793327\n",
      "bestIteration = 1999\n",
      "\n",
      "err:  0.4576793373289565\n",
      "0:\tlearn: 4.9364148\ttest: 4.9329597\tbest: 4.9329597 (0)\ttotal: 989ms\tremaining: 32m 57s\n",
      "100:\tlearn: 0.8493316\ttest: 0.8492629\tbest: 0.8492629 (100)\ttotal: 1m 19s\tremaining: 24m 50s\n",
      "200:\tlearn: 0.5113892\ttest: 0.5105340\tbest: 0.5105340 (200)\ttotal: 2m 46s\tremaining: 24m 51s\n",
      "300:\tlearn: 0.4914495\ttest: 0.4907514\tbest: 0.4907514 (300)\ttotal: 4m 4s\tremaining: 23m 2s\n",
      "400:\tlearn: 0.4842503\ttest: 0.4838698\tbest: 0.4838698 (400)\ttotal: 5m 23s\tremaining: 21m 29s\n",
      "500:\tlearn: 0.4792008\ttest: 0.4791770\tbest: 0.4791770 (500)\ttotal: 6m 36s\tremaining: 19m 46s\n",
      "600:\tlearn: 0.4752386\ttest: 0.4755762\tbest: 0.4755762 (600)\ttotal: 7m 50s\tremaining: 18m 15s\n",
      "700:\tlearn: 0.4717871\ttest: 0.4724278\tbest: 0.4724278 (700)\ttotal: 9m 13s\tremaining: 17m 5s\n",
      "800:\tlearn: 0.4688869\ttest: 0.4698988\tbest: 0.4698988 (800)\ttotal: 10m 34s\tremaining: 15m 49s\n",
      "900:\tlearn: 0.4663943\ttest: 0.4677712\tbest: 0.4677712 (900)\ttotal: 11m 51s\tremaining: 14m 27s\n",
      "1000:\tlearn: 0.4641240\ttest: 0.4659011\tbest: 0.4659011 (1000)\ttotal: 13m 6s\tremaining: 13m 5s\n",
      "1100:\tlearn: 0.4620764\ttest: 0.4642153\tbest: 0.4642153 (1100)\ttotal: 14m 24s\tremaining: 11m 45s\n",
      "1200:\tlearn: 0.4602011\ttest: 0.4627101\tbest: 0.4627101 (1200)\ttotal: 15m 39s\tremaining: 10m 25s\n",
      "1300:\tlearn: 0.4584306\ttest: 0.4613053\tbest: 0.4613053 (1300)\ttotal: 17m 4s\tremaining: 9m 10s\n",
      "1400:\tlearn: 0.4569584\ttest: 0.4602375\tbest: 0.4602375 (1400)\ttotal: 18m 19s\tremaining: 7m 50s\n",
      "1500:\tlearn: 0.4555979\ttest: 0.4592630\tbest: 0.4592630 (1500)\ttotal: 19m 34s\tremaining: 6m 30s\n",
      "1600:\tlearn: 0.4541290\ttest: 0.4582153\tbest: 0.4582153 (1600)\ttotal: 20m 53s\tremaining: 5m 12s\n",
      "1700:\tlearn: 0.4528975\ttest: 0.4573823\tbest: 0.4573823 (1700)\ttotal: 22m 17s\tremaining: 3m 55s\n",
      "1800:\tlearn: 0.4516409\ttest: 0.4565156\tbest: 0.4565156 (1800)\ttotal: 23m 40s\tremaining: 2m 36s\n",
      "1900:\tlearn: 0.4505870\ttest: 0.4558180\tbest: 0.4558180 (1900)\ttotal: 24m 59s\tremaining: 1m 18s\n",
      "1999:\tlearn: 0.4495121\ttest: 0.4551075\tbest: 0.4551075 (1999)\ttotal: 26m 16s\tremaining: 0us\n",
      "\n",
      "bestTest = 0.455107537\n",
      "bestIteration = 1999\n",
      "\n",
      "err:  0.455107542065128\n",
      "0:\tlearn: 4.9360026\ttest: 4.9344814\tbest: 4.9344814 (0)\ttotal: 1.08s\tremaining: 35m 57s\n",
      "100:\tlearn: 0.8489013\ttest: 0.8495326\tbest: 0.8495326 (100)\ttotal: 1m 36s\tremaining: 30m 17s\n",
      "200:\tlearn: 0.5106490\ttest: 0.5123364\tbest: 0.5123364 (200)\ttotal: 3m 2s\tremaining: 27m 13s\n",
      "300:\tlearn: 0.4911686\ttest: 0.4931986\tbest: 0.4931986 (300)\ttotal: 4m 21s\tremaining: 24m 36s\n",
      "400:\tlearn: 0.4838979\ttest: 0.4863057\tbest: 0.4863057 (400)\ttotal: 5m 40s\tremaining: 22m 36s\n",
      "500:\tlearn: 0.4788900\ttest: 0.4816971\tbest: 0.4816971 (500)\ttotal: 7m 3s\tremaining: 21m 8s\n",
      "600:\tlearn: 0.4750631\ttest: 0.4782191\tbest: 0.4782191 (600)\ttotal: 8m 23s\tremaining: 19m 31s\n",
      "700:\tlearn: 0.4712911\ttest: 0.4748248\tbest: 0.4748248 (700)\ttotal: 9m 49s\tremaining: 18m 12s\n",
      "800:\tlearn: 0.4682621\ttest: 0.4721648\tbest: 0.4721648 (800)\ttotal: 11m 15s\tremaining: 16m 51s\n",
      "900:\tlearn: 0.4657511\ttest: 0.4699860\tbest: 0.4699860 (900)\ttotal: 12m 39s\tremaining: 15m 26s\n",
      "1000:\tlearn: 0.4634957\ttest: 0.4681142\tbest: 0.4681142 (1000)\ttotal: 13m 57s\tremaining: 13m 55s\n",
      "1100:\tlearn: 0.4614895\ttest: 0.4664484\tbest: 0.4664484 (1100)\ttotal: 15m 17s\tremaining: 12m 29s\n",
      "1200:\tlearn: 0.4596941\ttest: 0.4650047\tbest: 0.4650047 (1200)\ttotal: 16m 40s\tremaining: 11m 5s\n",
      "1300:\tlearn: 0.4579925\ttest: 0.4636700\tbest: 0.4636700 (1300)\ttotal: 18m 2s\tremaining: 9m 41s\n",
      "1400:\tlearn: 0.4564863\ttest: 0.4625513\tbest: 0.4625513 (1400)\ttotal: 19m 23s\tremaining: 8m 17s\n",
      "1500:\tlearn: 0.4550471\ttest: 0.4615006\tbest: 0.4615006 (1500)\ttotal: 20m 42s\tremaining: 6m 53s\n",
      "1600:\tlearn: 0.4537459\ttest: 0.4605434\tbest: 0.4605434 (1600)\ttotal: 22m 5s\tremaining: 5m 30s\n",
      "1700:\tlearn: 0.4524730\ttest: 0.4596164\tbest: 0.4596164 (1700)\ttotal: 23m 24s\tremaining: 4m 6s\n",
      "1800:\tlearn: 0.4512490\ttest: 0.4587442\tbest: 0.4587442 (1800)\ttotal: 24m 40s\tremaining: 2m 43s\n",
      "1900:\tlearn: 0.4502160\ttest: 0.4580780\tbest: 0.4580780 (1900)\ttotal: 25m 57s\tremaining: 1m 21s\n",
      "1999:\tlearn: 0.4491516\ttest: 0.4574015\tbest: 0.4574015 (1999)\ttotal: 27m 16s\tremaining: 0us\n",
      "\n",
      "bestTest = 0.4574014798\n",
      "bestIteration = 1999\n",
      "\n",
      "err:  0.45740148459227153\n",
      "0:\tlearn: 4.9345801\ttest: 4.9401703\tbest: 4.9401703 (0)\ttotal: 940ms\tremaining: 31m 20s\n",
      "100:\tlearn: 0.8490644\ttest: 0.8493116\tbest: 0.8493116 (100)\ttotal: 1m 17s\tremaining: 24m 9s\n",
      "200:\tlearn: 0.5115628\ttest: 0.5128156\tbest: 0.5128156 (200)\ttotal: 2m 49s\tremaining: 25m 14s\n",
      "300:\tlearn: 0.4917563\ttest: 0.4933665\tbest: 0.4933665 (300)\ttotal: 4m 3s\tremaining: 22m 53s\n",
      "400:\tlearn: 0.4841972\ttest: 0.4859955\tbest: 0.4859955 (400)\ttotal: 5m 22s\tremaining: 21m 24s\n",
      "500:\tlearn: 0.4788965\ttest: 0.4809527\tbest: 0.4809527 (500)\ttotal: 6m 37s\tremaining: 19m 48s\n",
      "600:\tlearn: 0.4749339\ttest: 0.4772038\tbest: 0.4772038 (600)\ttotal: 7m 51s\tremaining: 18m 17s\n",
      "700:\tlearn: 0.4714903\ttest: 0.4740032\tbest: 0.4740032 (700)\ttotal: 9m 6s\tremaining: 16m 52s\n",
      "800:\tlearn: 0.4686651\ttest: 0.4714630\tbest: 0.4714630 (800)\ttotal: 10m 22s\tremaining: 15m 31s\n",
      "900:\tlearn: 0.4660142\ttest: 0.4690969\tbest: 0.4690969 (900)\ttotal: 11m 39s\tremaining: 14m 12s\n",
      "1000:\tlearn: 0.4636733\ttest: 0.4670668\tbest: 0.4670668 (1000)\ttotal: 13m 5s\tremaining: 13m 3s\n",
      "1100:\tlearn: 0.4617581\ttest: 0.4654509\tbest: 0.4654509 (1100)\ttotal: 14m 31s\tremaining: 11m 51s\n",
      "1200:\tlearn: 0.4598216\ttest: 0.4638225\tbest: 0.4638225 (1200)\ttotal: 15m 56s\tremaining: 10m 36s\n",
      "1300:\tlearn: 0.4581211\ttest: 0.4624901\tbest: 0.4624901 (1300)\ttotal: 17m 17s\tremaining: 9m 17s\n",
      "1400:\tlearn: 0.4566537\ttest: 0.4613496\tbest: 0.4613496 (1400)\ttotal: 18m 44s\tremaining: 8m\n",
      "1500:\tlearn: 0.4552462\ttest: 0.4602430\tbest: 0.4602430 (1500)\ttotal: 20m 16s\tremaining: 6m 44s\n",
      "1600:\tlearn: 0.4539435\ttest: 0.4593320\tbest: 0.4593320 (1600)\ttotal: 21m 39s\tremaining: 5m 23s\n",
      "1700:\tlearn: 0.4526958\ttest: 0.4584548\tbest: 0.4584548 (1700)\ttotal: 23m 13s\tremaining: 4m 4s\n",
      "1800:\tlearn: 0.4515237\ttest: 0.4576486\tbest: 0.4576486 (1800)\ttotal: 24m 39s\tremaining: 2m 43s\n",
      "1900:\tlearn: 0.4502501\ttest: 0.4567509\tbest: 0.4567509 (1900)\ttotal: 26m 1s\tremaining: 1m 21s\n",
      "1999:\tlearn: 0.4491815\ttest: 0.4560321\tbest: 0.4560321 (1999)\ttotal: 27m 23s\tremaining: 0us\n",
      "\n",
      "bestTest = 0.4560321136\n",
      "bestIteration = 1999\n",
      "\n",
      "err:  0.4560321185164479\n",
      "0:\tlearn: 4.9348325\ttest: 4.9392165\tbest: 4.9392165 (0)\ttotal: 959ms\tremaining: 31m 57s\n"
     ]
    },
    {
     "ename": "KeyboardInterrupt",
     "evalue": "",
     "output_type": "error",
     "traceback": [
      "\u001b[1;31m---------------------------------------------------------------------------\u001b[0m",
      "\u001b[1;31mKeyboardInterrupt\u001b[0m                         Traceback (most recent call last)",
      "\u001b[1;32m<ipython-input-74-59e56bbd99e0>\u001b[0m in \u001b[0;36m<module>\u001b[1;34m\u001b[0m\n\u001b[0;32m     11\u001b[0m               \u001b[0meval_set\u001b[0m\u001b[1;33m=\u001b[0m\u001b[1;33m(\u001b[0m\u001b[0mX_valid\u001b[0m\u001b[1;33m,\u001b[0m\u001b[0my_valid\u001b[0m\u001b[1;33m)\u001b[0m\u001b[1;33m,\u001b[0m\u001b[1;33m\u001b[0m\u001b[1;33m\u001b[0m\u001b[0m\n\u001b[0;32m     12\u001b[0m               \u001b[0mearly_stopping_rounds\u001b[0m\u001b[1;33m=\u001b[0m\u001b[1;36m300\u001b[0m\u001b[1;33m,\u001b[0m\u001b[1;33m\u001b[0m\u001b[1;33m\u001b[0m\u001b[0m\n\u001b[1;32m---> 13\u001b[1;33m               verbose=100)\n\u001b[0m\u001b[0;32m     14\u001b[0m     \u001b[0mpreds\u001b[0m \u001b[1;33m=\u001b[0m \u001b[0mmodel\u001b[0m\u001b[1;33m.\u001b[0m\u001b[0mpredict\u001b[0m\u001b[1;33m(\u001b[0m\u001b[0mX_valid\u001b[0m\u001b[1;33m)\u001b[0m\u001b[1;33m\u001b[0m\u001b[1;33m\u001b[0m\u001b[0m\n\u001b[0;32m     15\u001b[0m     \u001b[0mprint\u001b[0m\u001b[1;33m(\u001b[0m\u001b[1;34m\"err: \"\u001b[0m\u001b[1;33m,\u001b[0m\u001b[0mnp\u001b[0m\u001b[1;33m.\u001b[0m\u001b[0msqrt\u001b[0m\u001b[1;33m(\u001b[0m\u001b[0mmean_squared_error\u001b[0m\u001b[1;33m(\u001b[0m\u001b[0my_valid\u001b[0m\u001b[1;33m,\u001b[0m\u001b[0mpreds\u001b[0m\u001b[1;33m)\u001b[0m\u001b[1;33m)\u001b[0m\u001b[1;33m)\u001b[0m\u001b[1;33m\u001b[0m\u001b[1;33m\u001b[0m\u001b[0m\n",
      "\u001b[1;32m~\\anaconda3\\lib\\site-packages\\catboost\\core.py\u001b[0m in \u001b[0;36mfit\u001b[1;34m(self, X, y, cat_features, sample_weight, baseline, use_best_model, eval_set, verbose, logging_level, plot, column_description, verbose_eval, metric_period, silent, early_stopping_rounds, save_snapshot, snapshot_file, snapshot_interval)\u001b[0m\n\u001b[0;32m   2541\u001b[0m                          \u001b[0muse_best_model\u001b[0m\u001b[1;33m,\u001b[0m \u001b[0meval_set\u001b[0m\u001b[1;33m,\u001b[0m \u001b[0mverbose\u001b[0m\u001b[1;33m,\u001b[0m \u001b[0mlogging_level\u001b[0m\u001b[1;33m,\u001b[0m \u001b[0mplot\u001b[0m\u001b[1;33m,\u001b[0m \u001b[0mcolumn_description\u001b[0m\u001b[1;33m,\u001b[0m\u001b[1;33m\u001b[0m\u001b[1;33m\u001b[0m\u001b[0m\n\u001b[0;32m   2542\u001b[0m                          \u001b[0mverbose_eval\u001b[0m\u001b[1;33m,\u001b[0m \u001b[0mmetric_period\u001b[0m\u001b[1;33m,\u001b[0m \u001b[0msilent\u001b[0m\u001b[1;33m,\u001b[0m \u001b[0mearly_stopping_rounds\u001b[0m\u001b[1;33m,\u001b[0m\u001b[1;33m\u001b[0m\u001b[1;33m\u001b[0m\u001b[0m\n\u001b[1;32m-> 2543\u001b[1;33m                          save_snapshot, snapshot_file, snapshot_interval)\n\u001b[0m\u001b[0;32m   2544\u001b[0m \u001b[1;33m\u001b[0m\u001b[0m\n\u001b[0;32m   2545\u001b[0m     \u001b[1;32mdef\u001b[0m \u001b[0mpredict\u001b[0m\u001b[1;33m(\u001b[0m\u001b[0mself\u001b[0m\u001b[1;33m,\u001b[0m \u001b[0mdata\u001b[0m\u001b[1;33m,\u001b[0m \u001b[0mntree_start\u001b[0m\u001b[1;33m=\u001b[0m\u001b[1;36m0\u001b[0m\u001b[1;33m,\u001b[0m \u001b[0mntree_end\u001b[0m\u001b[1;33m=\u001b[0m\u001b[1;36m0\u001b[0m\u001b[1;33m,\u001b[0m \u001b[0mthread_count\u001b[0m\u001b[1;33m=\u001b[0m\u001b[1;33m-\u001b[0m\u001b[1;36m1\u001b[0m\u001b[1;33m,\u001b[0m \u001b[0mverbose\u001b[0m\u001b[1;33m=\u001b[0m\u001b[1;32mNone\u001b[0m\u001b[1;33m)\u001b[0m\u001b[1;33m:\u001b[0m\u001b[1;33m\u001b[0m\u001b[1;33m\u001b[0m\u001b[0m\n",
      "\u001b[1;32m~\\anaconda3\\lib\\site-packages\\catboost\\core.py\u001b[0m in \u001b[0;36m_fit\u001b[1;34m(self, X, y, cat_features, pairs, sample_weight, group_id, group_weight, subgroup_id, pairs_weight, baseline, use_best_model, eval_set, verbose, logging_level, plot, column_description, verbose_eval, metric_period, silent, early_stopping_rounds, save_snapshot, snapshot_file, snapshot_interval)\u001b[0m\n\u001b[0;32m   1124\u001b[0m \u001b[1;33m\u001b[0m\u001b[0m\n\u001b[0;32m   1125\u001b[0m         \u001b[1;32mwith\u001b[0m \u001b[0mlog_fixup\u001b[0m\u001b[1;33m(\u001b[0m\u001b[1;33m)\u001b[0m\u001b[1;33m,\u001b[0m \u001b[0mplot_wrapper\u001b[0m\u001b[1;33m(\u001b[0m\u001b[0mplot\u001b[0m\u001b[1;33m,\u001b[0m \u001b[0mself\u001b[0m\u001b[1;33m.\u001b[0m\u001b[0mget_params\u001b[0m\u001b[1;33m(\u001b[0m\u001b[1;33m)\u001b[0m\u001b[1;33m)\u001b[0m\u001b[1;33m:\u001b[0m\u001b[1;33m\u001b[0m\u001b[1;33m\u001b[0m\u001b[0m\n\u001b[1;32m-> 1126\u001b[1;33m             \u001b[0mself\u001b[0m\u001b[1;33m.\u001b[0m\u001b[0m_train\u001b[0m\u001b[1;33m(\u001b[0m\u001b[0mtrain_pool\u001b[0m\u001b[1;33m,\u001b[0m \u001b[0meval_sets\u001b[0m\u001b[1;33m,\u001b[0m \u001b[0mparams\u001b[0m\u001b[1;33m,\u001b[0m \u001b[0mallow_clear_pool\u001b[0m\u001b[1;33m)\u001b[0m\u001b[1;33m\u001b[0m\u001b[1;33m\u001b[0m\u001b[0m\n\u001b[0m\u001b[0;32m   1127\u001b[0m \u001b[1;33m\u001b[0m\u001b[0m\n\u001b[0;32m   1128\u001b[0m         \u001b[1;32mif\u001b[0m \u001b[1;33m(\u001b[0m\u001b[1;32mnot\u001b[0m \u001b[0mself\u001b[0m\u001b[1;33m.\u001b[0m\u001b[0m_object\u001b[0m\u001b[1;33m.\u001b[0m\u001b[0m_has_leaf_weights_in_model\u001b[0m\u001b[1;33m(\u001b[0m\u001b[1;33m)\u001b[0m\u001b[1;33m)\u001b[0m \u001b[1;32mand\u001b[0m \u001b[0mallow_clear_pool\u001b[0m\u001b[1;33m:\u001b[0m\u001b[1;33m\u001b[0m\u001b[1;33m\u001b[0m\u001b[0m\n",
      "\u001b[1;32m~\\anaconda3\\lib\\site-packages\\catboost\\core.py\u001b[0m in \u001b[0;36m_train\u001b[1;34m(self, train_pool, test_pool, params, allow_clear_pool)\u001b[0m\n\u001b[0;32m    826\u001b[0m \u001b[1;33m\u001b[0m\u001b[0m\n\u001b[0;32m    827\u001b[0m     \u001b[1;32mdef\u001b[0m \u001b[0m_train\u001b[0m\u001b[1;33m(\u001b[0m\u001b[0mself\u001b[0m\u001b[1;33m,\u001b[0m \u001b[0mtrain_pool\u001b[0m\u001b[1;33m,\u001b[0m \u001b[0mtest_pool\u001b[0m\u001b[1;33m,\u001b[0m \u001b[0mparams\u001b[0m\u001b[1;33m,\u001b[0m \u001b[0mallow_clear_pool\u001b[0m\u001b[1;33m)\u001b[0m\u001b[1;33m:\u001b[0m\u001b[1;33m\u001b[0m\u001b[1;33m\u001b[0m\u001b[0m\n\u001b[1;32m--> 828\u001b[1;33m         \u001b[0mself\u001b[0m\u001b[1;33m.\u001b[0m\u001b[0m_object\u001b[0m\u001b[1;33m.\u001b[0m\u001b[0m_train\u001b[0m\u001b[1;33m(\u001b[0m\u001b[0mtrain_pool\u001b[0m\u001b[1;33m,\u001b[0m \u001b[0mtest_pool\u001b[0m\u001b[1;33m,\u001b[0m \u001b[0mparams\u001b[0m\u001b[1;33m,\u001b[0m \u001b[0mallow_clear_pool\u001b[0m\u001b[1;33m)\u001b[0m\u001b[1;33m\u001b[0m\u001b[1;33m\u001b[0m\u001b[0m\n\u001b[0m\u001b[0;32m    829\u001b[0m         \u001b[0mself\u001b[0m\u001b[1;33m.\u001b[0m\u001b[0m_set_trained_model_attributes\u001b[0m\u001b[1;33m(\u001b[0m\u001b[1;33m)\u001b[0m\u001b[1;33m\u001b[0m\u001b[1;33m\u001b[0m\u001b[0m\n\u001b[0;32m    830\u001b[0m \u001b[1;33m\u001b[0m\u001b[0m\n",
      "\u001b[1;32m_catboost.pyx\u001b[0m in \u001b[0;36m_catboost._CatBoost._train\u001b[1;34m()\u001b[0m\n",
      "\u001b[1;32m_catboost.pyx\u001b[0m in \u001b[0;36m_catboost._CatBoost._train\u001b[1;34m()\u001b[0m\n",
      "\u001b[1;31mKeyboardInterrupt\u001b[0m: "
     ]
    }
   ],
   "source": [
    "errcb=[]\n",
    "y_pred_test=[]\n",
    "\n",
    "fold = KFold(n_splits=5,shuffle=True,random_state=2019)\n",
    "\n",
    "for train_index, test_index in fold.split(train_data[features],train_data['num_orders']):\n",
    "    X_train, X_valid =train_data[features].iloc[train_index], train_data[features].iloc[test_index]\n",
    "    y_train, y_valid = train_data['num_orders'][train_index],train_data['num_orders'][test_index]\n",
    "    model.fit(X_train,y_train,\n",
    "              cat_features = categorical_features_indices,\n",
    "              eval_set=(X_valid,y_valid),\n",
    "              early_stopping_rounds=300,\n",
    "              verbose=100)\n",
    "    preds = model.predict(X_valid)\n",
    "    print(\"err: \",np.sqrt(mean_squared_error(y_valid,preds)))\n",
    "    errcb.append(np.sqrt(mean_squared_error(y_valid,preds)))\n",
    "    p = model.predict(test_data[features])\n",
    "    y_pred_test.append(p)"
   ]
  },
  {
   "cell_type": "code",
   "execution_count": 73,
   "metadata": {
    "colab": {
     "base_uri": "https://localhost:8080/",
     "height": 10659
    },
    "colab_type": "code",
    "id": "J_v4PJPl7kWh",
    "outputId": "53630069-9f48-457c-8a1a-cf971c53b07b",
    "scrolled": true
   },
   "outputs": [
    {
     "ename": "CatboostError",
     "evalue": "To employ param {'use_best_model': True} provide non-empty 'eval_set'.",
     "output_type": "error",
     "traceback": [
      "\u001b[1;31m---------------------------------------------------------------------------\u001b[0m",
      "\u001b[1;31mCatboostError\u001b[0m                             Traceback (most recent call last)",
      "\u001b[1;32m<ipython-input-73-2a53d63e6e61>\u001b[0m in \u001b[0;36m<module>\u001b[1;34m\u001b[0m\n\u001b[1;32m----> 1\u001b[1;33m \u001b[0mmodel\u001b[0m\u001b[1;33m.\u001b[0m\u001b[0mfit\u001b[0m\u001b[1;33m(\u001b[0m\u001b[0mX\u001b[0m\u001b[1;33m=\u001b[0m\u001b[0mtrain_data\u001b[0m\u001b[1;33m[\u001b[0m\u001b[0mfeatures\u001b[0m\u001b[1;33m]\u001b[0m\u001b[1;33m,\u001b[0m \u001b[0my\u001b[0m\u001b[1;33m=\u001b[0m\u001b[0mtrain_data\u001b[0m\u001b[1;33m[\u001b[0m\u001b[1;34m'num_orders'\u001b[0m\u001b[1;33m]\u001b[0m\u001b[1;33m,\u001b[0m \u001b[0mcat_features\u001b[0m\u001b[1;33m=\u001b[0m\u001b[0mcategorical_features_indices\u001b[0m\u001b[1;33m,\u001b[0m \u001b[0mverbose\u001b[0m\u001b[1;33m=\u001b[0m\u001b[1;36m100\u001b[0m\u001b[1;33m)\u001b[0m\u001b[1;33m\u001b[0m\u001b[1;33m\u001b[0m\u001b[0m\n\u001b[0m",
      "\u001b[1;32m~\\anaconda3\\lib\\site-packages\\catboost\\core.py\u001b[0m in \u001b[0;36mfit\u001b[1;34m(self, X, y, cat_features, sample_weight, baseline, use_best_model, eval_set, verbose, logging_level, plot, column_description, verbose_eval, metric_period, silent, early_stopping_rounds, save_snapshot, snapshot_file, snapshot_interval)\u001b[0m\n\u001b[0;32m   2541\u001b[0m                          \u001b[0muse_best_model\u001b[0m\u001b[1;33m,\u001b[0m \u001b[0meval_set\u001b[0m\u001b[1;33m,\u001b[0m \u001b[0mverbose\u001b[0m\u001b[1;33m,\u001b[0m \u001b[0mlogging_level\u001b[0m\u001b[1;33m,\u001b[0m \u001b[0mplot\u001b[0m\u001b[1;33m,\u001b[0m \u001b[0mcolumn_description\u001b[0m\u001b[1;33m,\u001b[0m\u001b[1;33m\u001b[0m\u001b[1;33m\u001b[0m\u001b[0m\n\u001b[0;32m   2542\u001b[0m                          \u001b[0mverbose_eval\u001b[0m\u001b[1;33m,\u001b[0m \u001b[0mmetric_period\u001b[0m\u001b[1;33m,\u001b[0m \u001b[0msilent\u001b[0m\u001b[1;33m,\u001b[0m \u001b[0mearly_stopping_rounds\u001b[0m\u001b[1;33m,\u001b[0m\u001b[1;33m\u001b[0m\u001b[1;33m\u001b[0m\u001b[0m\n\u001b[1;32m-> 2543\u001b[1;33m                          save_snapshot, snapshot_file, snapshot_interval)\n\u001b[0m\u001b[0;32m   2544\u001b[0m \u001b[1;33m\u001b[0m\u001b[0m\n\u001b[0;32m   2545\u001b[0m     \u001b[1;32mdef\u001b[0m \u001b[0mpredict\u001b[0m\u001b[1;33m(\u001b[0m\u001b[0mself\u001b[0m\u001b[1;33m,\u001b[0m \u001b[0mdata\u001b[0m\u001b[1;33m,\u001b[0m \u001b[0mntree_start\u001b[0m\u001b[1;33m=\u001b[0m\u001b[1;36m0\u001b[0m\u001b[1;33m,\u001b[0m \u001b[0mntree_end\u001b[0m\u001b[1;33m=\u001b[0m\u001b[1;36m0\u001b[0m\u001b[1;33m,\u001b[0m \u001b[0mthread_count\u001b[0m\u001b[1;33m=\u001b[0m\u001b[1;33m-\u001b[0m\u001b[1;36m1\u001b[0m\u001b[1;33m,\u001b[0m \u001b[0mverbose\u001b[0m\u001b[1;33m=\u001b[0m\u001b[1;32mNone\u001b[0m\u001b[1;33m)\u001b[0m\u001b[1;33m:\u001b[0m\u001b[1;33m\u001b[0m\u001b[1;33m\u001b[0m\u001b[0m\n",
      "\u001b[1;32m~\\anaconda3\\lib\\site-packages\\catboost\\core.py\u001b[0m in \u001b[0;36m_fit\u001b[1;34m(self, X, y, cat_features, pairs, sample_weight, group_id, group_weight, subgroup_id, pairs_weight, baseline, use_best_model, eval_set, verbose, logging_level, plot, column_description, verbose_eval, metric_period, silent, early_stopping_rounds, save_snapshot, snapshot_file, snapshot_interval)\u001b[0m\n\u001b[0;32m   1121\u001b[0m \u001b[1;33m\u001b[0m\u001b[0m\n\u001b[0;32m   1122\u001b[0m         \u001b[1;32mif\u001b[0m \u001b[0mself\u001b[0m\u001b[1;33m.\u001b[0m\u001b[0mget_param\u001b[0m\u001b[1;33m(\u001b[0m\u001b[1;34m'use_best_model'\u001b[0m\u001b[1;33m)\u001b[0m \u001b[1;32mand\u001b[0m \u001b[0meval_total_row_count\u001b[0m \u001b[1;33m==\u001b[0m \u001b[1;36m0\u001b[0m\u001b[1;33m:\u001b[0m\u001b[1;33m\u001b[0m\u001b[1;33m\u001b[0m\u001b[0m\n\u001b[1;32m-> 1123\u001b[1;33m             \u001b[1;32mraise\u001b[0m \u001b[0mCatboostError\u001b[0m\u001b[1;33m(\u001b[0m\u001b[1;34m\"To employ param {'use_best_model': True} provide non-empty 'eval_set'.\"\u001b[0m\u001b[1;33m)\u001b[0m\u001b[1;33m\u001b[0m\u001b[1;33m\u001b[0m\u001b[0m\n\u001b[0m\u001b[0;32m   1124\u001b[0m \u001b[1;33m\u001b[0m\u001b[0m\n\u001b[0;32m   1125\u001b[0m         \u001b[1;32mwith\u001b[0m \u001b[0mlog_fixup\u001b[0m\u001b[1;33m(\u001b[0m\u001b[1;33m)\u001b[0m\u001b[1;33m,\u001b[0m \u001b[0mplot_wrapper\u001b[0m\u001b[1;33m(\u001b[0m\u001b[0mplot\u001b[0m\u001b[1;33m,\u001b[0m \u001b[0mself\u001b[0m\u001b[1;33m.\u001b[0m\u001b[0mget_params\u001b[0m\u001b[1;33m(\u001b[0m\u001b[1;33m)\u001b[0m\u001b[1;33m)\u001b[0m\u001b[1;33m:\u001b[0m\u001b[1;33m\u001b[0m\u001b[1;33m\u001b[0m\u001b[0m\n",
      "\u001b[1;31mCatboostError\u001b[0m: To employ param {'use_best_model': True} provide non-empty 'eval_set'."
     ]
    }
   ],
   "source": [
    "model.fit(X=train_data[features], y=train_data['num_orders'], cat_features=categorical_features_indices, verbose=100)"
   ]
  },
  {
   "cell_type": "code",
   "execution_count": null,
   "metadata": {
    "colab": {},
    "colab_type": "code",
    "id": "Rrwagd3-7kWj"
   },
   "outputs": [],
   "source": [
    "pred = model.predict(test_data[features])"
   ]
  },
  {
   "cell_type": "code",
   "execution_count": null,
   "metadata": {
    "colab": {},
    "colab_type": "code",
    "id": "ktaMJbtjG-5U"
   },
   "outputs": [],
   "source": [
    "pred = (np.exp(pred) - 1)"
   ]
  },
  {
   "cell_type": "code",
   "execution_count": null,
   "metadata": {
    "colab": {},
    "colab_type": "code",
    "id": "EBGphk3F7kWm"
   },
   "outputs": [],
   "source": [
    "submission = pd.DataFrame({'id':test['id'],'num_orders':pred})\n",
    "submission = submission[['id','num_orders']]\n",
    "submission.head()"
   ]
  },
  {
   "cell_type": "code",
   "execution_count": null,
   "metadata": {},
   "outputs": [],
   "source": [
    "submission.to_csv('catboost_1.csv', index=False)"
   ]
  },
  {
   "cell_type": "code",
   "execution_count": null,
   "metadata": {
    "colab": {},
    "colab_type": "code",
    "id": "lXJnd7PmIV6D"
   },
   "outputs": [],
   "source": [
    "feature_score = pd.DataFrame(list(zip(train_data[features].dtypes.index, model.get_feature_importance(Pool(train_data[features], label=train_data['num_orders'], cat_features=categorical_features_indices)))),\n",
    "                columns=['Feature','Score'])\n",
    "\n",
    "feature_score = feature_score.sort_values(by='Score', ascending=False, inplace=False, kind='quicksort', na_position='last')"
   ]
  },
  {
   "cell_type": "code",
   "execution_count": null,
   "metadata": {},
   "outputs": [],
   "source": [
    "plt.rcParams[\"figure.figsize\"] = (24,7)\n",
    "ax = feature_score.plot('Feature', 'Score', kind='bar', color='c')\n",
    "ax.set_title(\"Catboost Feature Importance Ranking\", fontsize = 14)\n",
    "ax.set_xlabel('')\n",
    "\n",
    "rects = ax.patches\n",
    "\n",
    "labels = feature_score['Score'].round(2)\n",
    "\n",
    "for rect, label in zip(rects, labels):\n",
    "    height = rect.get_height()\n",
    "    ax.text(rect.get_x() + rect.get_width()/2, height + 0.35, label, ha='center', va='bottom')\n",
    "\n",
    "plt.show()"
   ]
  }
 ],
 "metadata": {
  "colab": {
   "collapsed_sections": [],
   "name": "Analysis.ipynb",
   "provenance": [],
   "version": "0.3.2"
  },
  "kernelspec": {
   "display_name": "Python 3",
   "language": "python",
   "name": "python3"
  },
  "language_info": {
   "codemirror_mode": {
    "name": "ipython",
    "version": 3
   },
   "file_extension": ".py",
   "mimetype": "text/x-python",
   "name": "python",
   "nbconvert_exporter": "python",
   "pygments_lexer": "ipython3",
   "version": "3.7.6"
  }
 },
 "nbformat": 4,
 "nbformat_minor": 2
}
